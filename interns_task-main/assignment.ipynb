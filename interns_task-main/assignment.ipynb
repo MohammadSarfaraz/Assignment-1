{
 "cells": [
  {
   "cell_type": "markdown",
   "metadata": {},
   "source": [
    "\n",
    "# Machine Learning Internship task\n",
    "\n",
    "Welcome folks, Thank you for applying for this internship and we are super excited to take this conversation ahead with you.\n",
    "\n",
    "But before we go ahead, we would like you to go thru a small assessment, which will help us to evaluate you better on technical skills and working styles.\n",
    "\n",
    "\n",
    "## Task Objective :\n",
    "* [ ] Perform EDA on the given [data](https://github.com/geniusai-research/interns_task/blob/main/taskdata.csv).\n",
    "* [ ] Build some new features which makes sense for the learning objective.\n",
    "* [ ] Train any classifier (can be any model of your choice XGB,DNNs, etc) \n",
    "* [ ] Implement SHAP on this model to explain the decisions. (`Bonus points`) \n",
    "* [ ] Submit the task by creating a PR request on this [repository](https://github.com/geniusai-research/interns_task/).\n",
    "\n",
    "## Instructions :\n",
    "* Perform all the tasks mentioned above.\n",
    "* Maintain a single **JupyterNotebook** which has all the descriptions and code in it. \n",
    "* Notebook needs to be properly structured .\n",
    "* Code needs to reproducible.\n",
    "\n",
    "**We will only accept the assignment if its in a single Notebook or else it will be rejected.**\n",
    "\n",
    "## Important dates\n",
    "The assignments needs to be completed in 1 week from today. <br>\n",
    "**Deadline : 28th October**\n",
    "\n",
    "\n",
    "If you have any issue then feel free to create issue on this [repository](https://github.com/geniusai-research/interns_task/) or reachout to us over the internshala chat.\n",
    "\n",
    "<hr>\n",
    "\n",
    "Cheers!!!  <br>\n",
    "RK \n"
   ]
  },
  {
   "cell_type": "markdown",
   "metadata": {},
   "source": [
    "### Import necessary module"
   ]
  },
  {
   "cell_type": "code",
   "execution_count": 1,
   "metadata": {},
   "outputs": [],
   "source": [
    "import pandas as pd\n",
    "import matplotlib.pyplot as plt\n",
    "import numpy as np\n",
    "import seaborn as sns"
   ]
  },
  {
   "cell_type": "markdown",
   "metadata": {},
   "source": [
    "#### import scaling module "
   ]
  },
  {
   "cell_type": "code",
   "execution_count": 2,
   "metadata": {},
   "outputs": [],
   "source": [
    "from sklearn.preprocessing import MinMaxScaler,StandardScaler"
   ]
  },
  {
   "cell_type": "markdown",
   "metadata": {},
   "source": [
    "#### Import  all machine learning and deep learning tensorflow keras"
   ]
  },
  {
   "cell_type": "code",
   "execution_count": 3,
   "metadata": {},
   "outputs": [
    {
     "name": "stderr",
     "output_type": "stream",
     "text": [
      "Using TensorFlow backend.\n"
     ]
    }
   ],
   "source": [
    "from sklearn.linear_model import LogisticRegression\n",
    "from sklearn.svm import LinearSVC\n",
    "from sklearn.ensemble import RandomForestClassifier,GradientBoostingClassifier\n",
    "from sklearn.naive_bayes import GaussianNB\n",
    "from sklearn.neighbors import KNeighborsClassifier\n",
    "\n",
    "\n",
    "\n",
    "from keras.layers.recurrent import LSTM,SimpleRNN\n",
    "from keras.models import Sequential\n",
    "from keras.layers import Dense\n"
   ]
  },
  {
   "cell_type": "markdown",
   "metadata": {},
   "source": [
    "### Read CSV data as pd.read_csv()"
   ]
  },
  {
   "cell_type": "code",
   "execution_count": 4,
   "metadata": {},
   "outputs": [],
   "source": [
    "data_df= pd.read_csv('taskdata.csv')"
   ]
  },
  {
   "cell_type": "markdown",
   "metadata": {},
   "source": [
    "### Top five rows of data"
   ]
  },
  {
   "cell_type": "code",
   "execution_count": 5,
   "metadata": {},
   "outputs": [
    {
     "data": {
      "text/html": [
       "<div>\n",
       "<style scoped>\n",
       "    .dataframe tbody tr th:only-of-type {\n",
       "        vertical-align: middle;\n",
       "    }\n",
       "\n",
       "    .dataframe tbody tr th {\n",
       "        vertical-align: top;\n",
       "    }\n",
       "\n",
       "    .dataframe thead th {\n",
       "        text-align: right;\n",
       "    }\n",
       "</style>\n",
       "<table border=\"1\" class=\"dataframe\">\n",
       "  <thead>\n",
       "    <tr style=\"text-align: right;\">\n",
       "      <th></th>\n",
       "      <th>user_id</th>\n",
       "      <th>account_id</th>\n",
       "      <th>max_return_days</th>\n",
       "      <th>average_return_days</th>\n",
       "      <th>customer_since_months</th>\n",
       "      <th>total_revenue</th>\n",
       "      <th>average_revenue</th>\n",
       "      <th>avg_vas_count</th>\n",
       "      <th>avg_used_vas_value</th>\n",
       "      <th>business_type</th>\n",
       "      <th>avg_wallet_bonus</th>\n",
       "      <th>avg_active_ads</th>\n",
       "      <th>avg_new_ads</th>\n",
       "      <th>avg_email_replies</th>\n",
       "      <th>avg_call_replies</th>\n",
       "      <th>avg_sms_replies</th>\n",
       "      <th>target</th>\n",
       "    </tr>\n",
       "  </thead>\n",
       "  <tbody>\n",
       "    <tr>\n",
       "      <th>0</th>\n",
       "      <td>410039</td>\n",
       "      <td>496.0</td>\n",
       "      <td>8</td>\n",
       "      <td>1.500000</td>\n",
       "      <td>14</td>\n",
       "      <td>0.0</td>\n",
       "      <td>0.0</td>\n",
       "      <td>3.666667</td>\n",
       "      <td>66.666667</td>\n",
       "      <td>0</td>\n",
       "      <td>300.0</td>\n",
       "      <td>79.333333</td>\n",
       "      <td>15.250000</td>\n",
       "      <td>32.416667</td>\n",
       "      <td>27.916667</td>\n",
       "      <td>0.250000</td>\n",
       "      <td>0</td>\n",
       "    </tr>\n",
       "    <tr>\n",
       "      <th>1</th>\n",
       "      <td>410240</td>\n",
       "      <td>499.0</td>\n",
       "      <td>37</td>\n",
       "      <td>8.200000</td>\n",
       "      <td>10</td>\n",
       "      <td>0.0</td>\n",
       "      <td>0.0</td>\n",
       "      <td>4.900000</td>\n",
       "      <td>114.000000</td>\n",
       "      <td>0</td>\n",
       "      <td>0.0</td>\n",
       "      <td>232.100000</td>\n",
       "      <td>18.300000</td>\n",
       "      <td>16.200000</td>\n",
       "      <td>13.800000</td>\n",
       "      <td>0.000000</td>\n",
       "      <td>0</td>\n",
       "    </tr>\n",
       "    <tr>\n",
       "      <th>2</th>\n",
       "      <td>411764</td>\n",
       "      <td>493.0</td>\n",
       "      <td>9</td>\n",
       "      <td>1.533333</td>\n",
       "      <td>15</td>\n",
       "      <td>0.0</td>\n",
       "      <td>0.0</td>\n",
       "      <td>5.333333</td>\n",
       "      <td>106.666667</td>\n",
       "      <td>0</td>\n",
       "      <td>150.0</td>\n",
       "      <td>55.083333</td>\n",
       "      <td>3.750000</td>\n",
       "      <td>20.250000</td>\n",
       "      <td>24.500000</td>\n",
       "      <td>0.000000</td>\n",
       "      <td>0</td>\n",
       "    </tr>\n",
       "    <tr>\n",
       "      <th>3</th>\n",
       "      <td>411985</td>\n",
       "      <td>262.0</td>\n",
       "      <td>1</td>\n",
       "      <td>1.000000</td>\n",
       "      <td>14</td>\n",
       "      <td>0.0</td>\n",
       "      <td>0.0</td>\n",
       "      <td>6.307692</td>\n",
       "      <td>176.153846</td>\n",
       "      <td>0</td>\n",
       "      <td>1481.0</td>\n",
       "      <td>409.538462</td>\n",
       "      <td>80.769231</td>\n",
       "      <td>87.461538</td>\n",
       "      <td>57.615385</td>\n",
       "      <td>0.000000</td>\n",
       "      <td>1</td>\n",
       "    </tr>\n",
       "    <tr>\n",
       "      <th>4</th>\n",
       "      <td>412071</td>\n",
       "      <td>496.0</td>\n",
       "      <td>1</td>\n",
       "      <td>1.000000</td>\n",
       "      <td>18</td>\n",
       "      <td>0.0</td>\n",
       "      <td>0.0</td>\n",
       "      <td>5.846154</td>\n",
       "      <td>109.230769</td>\n",
       "      <td>0</td>\n",
       "      <td>41.5</td>\n",
       "      <td>48.230769</td>\n",
       "      <td>1.692308</td>\n",
       "      <td>17.461538</td>\n",
       "      <td>25.769231</td>\n",
       "      <td>0.230769</td>\n",
       "      <td>0</td>\n",
       "    </tr>\n",
       "  </tbody>\n",
       "</table>\n",
       "</div>"
      ],
      "text/plain": [
       "   user_id  account_id  max_return_days  average_return_days  \\\n",
       "0   410039       496.0                8             1.500000   \n",
       "1   410240       499.0               37             8.200000   \n",
       "2   411764       493.0                9             1.533333   \n",
       "3   411985       262.0                1             1.000000   \n",
       "4   412071       496.0                1             1.000000   \n",
       "\n",
       "   customer_since_months  total_revenue  average_revenue  avg_vas_count  \\\n",
       "0                     14            0.0              0.0       3.666667   \n",
       "1                     10            0.0              0.0       4.900000   \n",
       "2                     15            0.0              0.0       5.333333   \n",
       "3                     14            0.0              0.0       6.307692   \n",
       "4                     18            0.0              0.0       5.846154   \n",
       "\n",
       "   avg_used_vas_value  business_type  avg_wallet_bonus  avg_active_ads  \\\n",
       "0           66.666667              0             300.0       79.333333   \n",
       "1          114.000000              0               0.0      232.100000   \n",
       "2          106.666667              0             150.0       55.083333   \n",
       "3          176.153846              0            1481.0      409.538462   \n",
       "4          109.230769              0              41.5       48.230769   \n",
       "\n",
       "   avg_new_ads  avg_email_replies  avg_call_replies  avg_sms_replies  target  \n",
       "0    15.250000          32.416667         27.916667         0.250000       0  \n",
       "1    18.300000          16.200000         13.800000         0.000000       0  \n",
       "2     3.750000          20.250000         24.500000         0.000000       0  \n",
       "3    80.769231          87.461538         57.615385         0.000000       1  \n",
       "4     1.692308          17.461538         25.769231         0.230769       0  "
      ]
     },
     "execution_count": 5,
     "metadata": {},
     "output_type": "execute_result"
    }
   ],
   "source": [
    "data_df.head()"
   ]
  },
  {
   "cell_type": "markdown",
   "metadata": {},
   "source": [
    "### Rows and columns of data"
   ]
  },
  {
   "cell_type": "code",
   "execution_count": 6,
   "metadata": {},
   "outputs": [
    {
     "data": {
      "text/plain": [
       "(4407, 17)"
      ]
     },
     "execution_count": 6,
     "metadata": {},
     "output_type": "execute_result"
    }
   ],
   "source": [
    "data_df.shape"
   ]
  },
  {
   "cell_type": "markdown",
   "metadata": {},
   "source": [
    "## EDA using python"
   ]
  },
  {
   "cell_type": "markdown",
   "metadata": {},
   "source": [
    "#### Data description"
   ]
  },
  {
   "cell_type": "code",
   "execution_count": 7,
   "metadata": {},
   "outputs": [
    {
     "data": {
      "text/html": [
       "<div>\n",
       "<style scoped>\n",
       "    .dataframe tbody tr th:only-of-type {\n",
       "        vertical-align: middle;\n",
       "    }\n",
       "\n",
       "    .dataframe tbody tr th {\n",
       "        vertical-align: top;\n",
       "    }\n",
       "\n",
       "    .dataframe thead th {\n",
       "        text-align: right;\n",
       "    }\n",
       "</style>\n",
       "<table border=\"1\" class=\"dataframe\">\n",
       "  <thead>\n",
       "    <tr style=\"text-align: right;\">\n",
       "      <th></th>\n",
       "      <th>user_id</th>\n",
       "      <th>account_id</th>\n",
       "      <th>max_return_days</th>\n",
       "      <th>average_return_days</th>\n",
       "      <th>customer_since_months</th>\n",
       "      <th>total_revenue</th>\n",
       "      <th>average_revenue</th>\n",
       "      <th>avg_vas_count</th>\n",
       "      <th>avg_used_vas_value</th>\n",
       "      <th>business_type</th>\n",
       "      <th>avg_wallet_bonus</th>\n",
       "      <th>avg_active_ads</th>\n",
       "      <th>avg_new_ads</th>\n",
       "      <th>avg_email_replies</th>\n",
       "      <th>avg_call_replies</th>\n",
       "      <th>avg_sms_replies</th>\n",
       "      <th>target</th>\n",
       "    </tr>\n",
       "  </thead>\n",
       "  <tbody>\n",
       "    <tr>\n",
       "      <th>count</th>\n",
       "      <td>4.407000e+03</td>\n",
       "      <td>4400.000000</td>\n",
       "      <td>4407.000000</td>\n",
       "      <td>4407.000000</td>\n",
       "      <td>4407.000000</td>\n",
       "      <td>4407.000000</td>\n",
       "      <td>4407.000000</td>\n",
       "      <td>4407.000000</td>\n",
       "      <td>4407.000000</td>\n",
       "      <td>4407.000000</td>\n",
       "      <td>4407.000000</td>\n",
       "      <td>4407.000000</td>\n",
       "      <td>4407.000000</td>\n",
       "      <td>4407.000000</td>\n",
       "      <td>4407.000000</td>\n",
       "      <td>4407.000000</td>\n",
       "      <td>4407.000000</td>\n",
       "    </tr>\n",
       "    <tr>\n",
       "      <th>mean</th>\n",
       "      <td>4.106655e+09</td>\n",
       "      <td>506.553864</td>\n",
       "      <td>22.335602</td>\n",
       "      <td>7.171576</td>\n",
       "      <td>9.874064</td>\n",
       "      <td>194.130365</td>\n",
       "      <td>16.942615</td>\n",
       "      <td>3.249388</td>\n",
       "      <td>72.119006</td>\n",
       "      <td>0.497844</td>\n",
       "      <td>338.851046</td>\n",
       "      <td>98.922260</td>\n",
       "      <td>16.812003</td>\n",
       "      <td>25.681004</td>\n",
       "      <td>27.622151</td>\n",
       "      <td>0.162009</td>\n",
       "      <td>0.103245</td>\n",
       "    </tr>\n",
       "    <tr>\n",
       "      <th>std</th>\n",
       "      <td>6.794948e+09</td>\n",
       "      <td>326.072756</td>\n",
       "      <td>43.591246</td>\n",
       "      <td>19.209092</td>\n",
       "      <td>5.169639</td>\n",
       "      <td>1548.361547</td>\n",
       "      <td>128.268824</td>\n",
       "      <td>5.509869</td>\n",
       "      <td>117.019515</td>\n",
       "      <td>1.199725</td>\n",
       "      <td>831.746150</td>\n",
       "      <td>297.692950</td>\n",
       "      <td>68.045904</td>\n",
       "      <td>55.324218</td>\n",
       "      <td>61.069006</td>\n",
       "      <td>0.517693</td>\n",
       "      <td>0.304313</td>\n",
       "    </tr>\n",
       "    <tr>\n",
       "      <th>min</th>\n",
       "      <td>4.100390e+05</td>\n",
       "      <td>111.000000</td>\n",
       "      <td>1.000000</td>\n",
       "      <td>0.500000</td>\n",
       "      <td>1.000000</td>\n",
       "      <td>0.000000</td>\n",
       "      <td>0.000000</td>\n",
       "      <td>0.000000</td>\n",
       "      <td>0.000000</td>\n",
       "      <td>0.000000</td>\n",
       "      <td>0.000000</td>\n",
       "      <td>0.000000</td>\n",
       "      <td>0.000000</td>\n",
       "      <td>0.000000</td>\n",
       "      <td>0.000000</td>\n",
       "      <td>0.000000</td>\n",
       "      <td>0.000000</td>\n",
       "    </tr>\n",
       "    <tr>\n",
       "      <th>25%</th>\n",
       "      <td>6.184510e+08</td>\n",
       "      <td>226.000000</td>\n",
       "      <td>1.000000</td>\n",
       "      <td>1.000000</td>\n",
       "      <td>5.000000</td>\n",
       "      <td>0.000000</td>\n",
       "      <td>0.000000</td>\n",
       "      <td>0.142857</td>\n",
       "      <td>2.727273</td>\n",
       "      <td>0.000000</td>\n",
       "      <td>0.000000</td>\n",
       "      <td>13.500000</td>\n",
       "      <td>2.500000</td>\n",
       "      <td>4.461538</td>\n",
       "      <td>4.384615</td>\n",
       "      <td>0.000000</td>\n",
       "      <td>0.000000</td>\n",
       "    </tr>\n",
       "    <tr>\n",
       "      <th>50%</th>\n",
       "      <td>7.296626e+08</td>\n",
       "      <td>493.000000</td>\n",
       "      <td>2.000000</td>\n",
       "      <td>1.076923</td>\n",
       "      <td>12.000000</td>\n",
       "      <td>0.000000</td>\n",
       "      <td>0.000000</td>\n",
       "      <td>2.000000</td>\n",
       "      <td>45.000000</td>\n",
       "      <td>0.000000</td>\n",
       "      <td>40.000000</td>\n",
       "      <td>40.000000</td>\n",
       "      <td>6.333333</td>\n",
       "      <td>12.266667</td>\n",
       "      <td>12.933333</td>\n",
       "      <td>0.000000</td>\n",
       "      <td>0.000000</td>\n",
       "    </tr>\n",
       "    <tr>\n",
       "      <th>75%</th>\n",
       "      <td>7.292936e+09</td>\n",
       "      <td>1005.000000</td>\n",
       "      <td>30.000000</td>\n",
       "      <td>5.666667</td>\n",
       "      <td>14.000000</td>\n",
       "      <td>0.000000</td>\n",
       "      <td>0.000000</td>\n",
       "      <td>4.333333</td>\n",
       "      <td>100.000000</td>\n",
       "      <td>0.000000</td>\n",
       "      <td>327.280000</td>\n",
       "      <td>101.291667</td>\n",
       "      <td>14.250000</td>\n",
       "      <td>28.000000</td>\n",
       "      <td>30.784615</td>\n",
       "      <td>0.153846</td>\n",
       "      <td>0.000000</td>\n",
       "    </tr>\n",
       "    <tr>\n",
       "      <th>max</th>\n",
       "      <td>7.356031e+10</td>\n",
       "      <td>1017.000000</td>\n",
       "      <td>354.000000</td>\n",
       "      <td>354.000000</td>\n",
       "      <td>24.000000</td>\n",
       "      <td>43957.172700</td>\n",
       "      <td>3852.727273</td>\n",
       "      <td>156.583333</td>\n",
       "      <td>3357.500000</td>\n",
       "      <td>5.000000</td>\n",
       "      <td>15606.500000</td>\n",
       "      <td>9183.866667</td>\n",
       "      <td>2606.000000</td>\n",
       "      <td>1716.400000</td>\n",
       "      <td>1743.266667</td>\n",
       "      <td>14.636364</td>\n",
       "      <td>1.000000</td>\n",
       "    </tr>\n",
       "  </tbody>\n",
       "</table>\n",
       "</div>"
      ],
      "text/plain": [
       "            user_id   account_id  max_return_days  average_return_days  \\\n",
       "count  4.407000e+03  4400.000000      4407.000000          4407.000000   \n",
       "mean   4.106655e+09   506.553864        22.335602             7.171576   \n",
       "std    6.794948e+09   326.072756        43.591246            19.209092   \n",
       "min    4.100390e+05   111.000000         1.000000             0.500000   \n",
       "25%    6.184510e+08   226.000000         1.000000             1.000000   \n",
       "50%    7.296626e+08   493.000000         2.000000             1.076923   \n",
       "75%    7.292936e+09  1005.000000        30.000000             5.666667   \n",
       "max    7.356031e+10  1017.000000       354.000000           354.000000   \n",
       "\n",
       "       customer_since_months  total_revenue  average_revenue  avg_vas_count  \\\n",
       "count            4407.000000    4407.000000      4407.000000    4407.000000   \n",
       "mean                9.874064     194.130365        16.942615       3.249388   \n",
       "std                 5.169639    1548.361547       128.268824       5.509869   \n",
       "min                 1.000000       0.000000         0.000000       0.000000   \n",
       "25%                 5.000000       0.000000         0.000000       0.142857   \n",
       "50%                12.000000       0.000000         0.000000       2.000000   \n",
       "75%                14.000000       0.000000         0.000000       4.333333   \n",
       "max                24.000000   43957.172700      3852.727273     156.583333   \n",
       "\n",
       "       avg_used_vas_value  business_type  avg_wallet_bonus  avg_active_ads  \\\n",
       "count         4407.000000    4407.000000       4407.000000     4407.000000   \n",
       "mean            72.119006       0.497844        338.851046       98.922260   \n",
       "std            117.019515       1.199725        831.746150      297.692950   \n",
       "min              0.000000       0.000000          0.000000        0.000000   \n",
       "25%              2.727273       0.000000          0.000000       13.500000   \n",
       "50%             45.000000       0.000000         40.000000       40.000000   \n",
       "75%            100.000000       0.000000        327.280000      101.291667   \n",
       "max           3357.500000       5.000000      15606.500000     9183.866667   \n",
       "\n",
       "       avg_new_ads  avg_email_replies  avg_call_replies  avg_sms_replies  \\\n",
       "count  4407.000000        4407.000000       4407.000000      4407.000000   \n",
       "mean     16.812003          25.681004         27.622151         0.162009   \n",
       "std      68.045904          55.324218         61.069006         0.517693   \n",
       "min       0.000000           0.000000          0.000000         0.000000   \n",
       "25%       2.500000           4.461538          4.384615         0.000000   \n",
       "50%       6.333333          12.266667         12.933333         0.000000   \n",
       "75%      14.250000          28.000000         30.784615         0.153846   \n",
       "max    2606.000000        1716.400000       1743.266667        14.636364   \n",
       "\n",
       "            target  \n",
       "count  4407.000000  \n",
       "mean      0.103245  \n",
       "std       0.304313  \n",
       "min       0.000000  \n",
       "25%       0.000000  \n",
       "50%       0.000000  \n",
       "75%       0.000000  \n",
       "max       1.000000  "
      ]
     },
     "execution_count": 7,
     "metadata": {},
     "output_type": "execute_result"
    }
   ],
   "source": [
    "data_df.describe()"
   ]
  },
  {
   "cell_type": "markdown",
   "metadata": {},
   "source": [
    "#### Information of data"
   ]
  },
  {
   "cell_type": "code",
   "execution_count": 8,
   "metadata": {},
   "outputs": [
    {
     "name": "stdout",
     "output_type": "stream",
     "text": [
      "<class 'pandas.core.frame.DataFrame'>\n",
      "RangeIndex: 4407 entries, 0 to 4406\n",
      "Data columns (total 17 columns):\n",
      "user_id                  4407 non-null int64\n",
      "account_id               4400 non-null float64\n",
      "max_return_days          4407 non-null int64\n",
      "average_return_days      4407 non-null float64\n",
      "customer_since_months    4407 non-null int64\n",
      "total_revenue            4407 non-null float64\n",
      "average_revenue          4407 non-null float64\n",
      "avg_vas_count            4407 non-null float64\n",
      "avg_used_vas_value       4407 non-null float64\n",
      "business_type            4407 non-null int64\n",
      "avg_wallet_bonus         4407 non-null float64\n",
      "avg_active_ads           4407 non-null float64\n",
      "avg_new_ads              4407 non-null float64\n",
      "avg_email_replies        4407 non-null float64\n",
      "avg_call_replies         4407 non-null float64\n",
      "avg_sms_replies          4407 non-null float64\n",
      "target                   4407 non-null int64\n",
      "dtypes: float64(12), int64(5)\n",
      "memory usage: 585.4 KB\n"
     ]
    }
   ],
   "source": [
    "data_df.info()"
   ]
  },
  {
   "cell_type": "markdown",
   "metadata": {},
   "source": [
    "* According to our data only column name account_id contain some null value  "
   ]
  },
  {
   "cell_type": "markdown",
   "metadata": {},
   "source": [
    "#### Fill value \"0\" to all null value exists in account_id column "
   ]
  },
  {
   "cell_type": "code",
   "execution_count": 9,
   "metadata": {},
   "outputs": [],
   "source": [
    "data_df['account_id']=data_df['account_id'].fillna(0)"
   ]
  },
  {
   "cell_type": "code",
   "execution_count": 10,
   "metadata": {},
   "outputs": [
    {
     "data": {
      "text/html": [
       "<div>\n",
       "<style scoped>\n",
       "    .dataframe tbody tr th:only-of-type {\n",
       "        vertical-align: middle;\n",
       "    }\n",
       "\n",
       "    .dataframe tbody tr th {\n",
       "        vertical-align: top;\n",
       "    }\n",
       "\n",
       "    .dataframe thead th {\n",
       "        text-align: right;\n",
       "    }\n",
       "</style>\n",
       "<table border=\"1\" class=\"dataframe\">\n",
       "  <thead>\n",
       "    <tr style=\"text-align: right;\">\n",
       "      <th></th>\n",
       "      <th>user_id</th>\n",
       "      <th>account_id</th>\n",
       "      <th>max_return_days</th>\n",
       "      <th>average_return_days</th>\n",
       "      <th>customer_since_months</th>\n",
       "      <th>total_revenue</th>\n",
       "      <th>average_revenue</th>\n",
       "      <th>avg_vas_count</th>\n",
       "      <th>avg_used_vas_value</th>\n",
       "      <th>business_type</th>\n",
       "      <th>avg_wallet_bonus</th>\n",
       "      <th>avg_active_ads</th>\n",
       "      <th>avg_new_ads</th>\n",
       "      <th>avg_email_replies</th>\n",
       "      <th>avg_call_replies</th>\n",
       "      <th>avg_sms_replies</th>\n",
       "      <th>target</th>\n",
       "    </tr>\n",
       "  </thead>\n",
       "  <tbody>\n",
       "    <tr>\n",
       "      <th>764</th>\n",
       "      <td>61519179</td>\n",
       "      <td>0.0</td>\n",
       "      <td>2</td>\n",
       "      <td>1.066667</td>\n",
       "      <td>15</td>\n",
       "      <td>0.0</td>\n",
       "      <td>0.0</td>\n",
       "      <td>3.1</td>\n",
       "      <td>73.0</td>\n",
       "      <td>0</td>\n",
       "      <td>400.0</td>\n",
       "      <td>82.4</td>\n",
       "      <td>13.0</td>\n",
       "      <td>11.0</td>\n",
       "      <td>11.5</td>\n",
       "      <td>0.0</td>\n",
       "      <td>0</td>\n",
       "    </tr>\n",
       "    <tr>\n",
       "      <th>1002</th>\n",
       "      <td>614367929</td>\n",
       "      <td>0.0</td>\n",
       "      <td>31</td>\n",
       "      <td>31.000000</td>\n",
       "      <td>1</td>\n",
       "      <td>0.0</td>\n",
       "      <td>0.0</td>\n",
       "      <td>0.0</td>\n",
       "      <td>0.0</td>\n",
       "      <td>0</td>\n",
       "      <td>0.0</td>\n",
       "      <td>288.0</td>\n",
       "      <td>288.0</td>\n",
       "      <td>33.0</td>\n",
       "      <td>32.0</td>\n",
       "      <td>0.0</td>\n",
       "      <td>0</td>\n",
       "    </tr>\n",
       "    <tr>\n",
       "      <th>2276</th>\n",
       "      <td>734097700</td>\n",
       "      <td>0.0</td>\n",
       "      <td>1</td>\n",
       "      <td>1.000000</td>\n",
       "      <td>1</td>\n",
       "      <td>0.0</td>\n",
       "      <td>0.0</td>\n",
       "      <td>0.0</td>\n",
       "      <td>0.0</td>\n",
       "      <td>4</td>\n",
       "      <td>0.0</td>\n",
       "      <td>0.0</td>\n",
       "      <td>0.0</td>\n",
       "      <td>0.0</td>\n",
       "      <td>0.0</td>\n",
       "      <td>0.0</td>\n",
       "      <td>0</td>\n",
       "    </tr>\n",
       "    <tr>\n",
       "      <th>3792</th>\n",
       "      <td>7334120726</td>\n",
       "      <td>0.0</td>\n",
       "      <td>1</td>\n",
       "      <td>1.000000</td>\n",
       "      <td>1</td>\n",
       "      <td>0.0</td>\n",
       "      <td>0.0</td>\n",
       "      <td>0.0</td>\n",
       "      <td>0.0</td>\n",
       "      <td>0</td>\n",
       "      <td>0.0</td>\n",
       "      <td>0.0</td>\n",
       "      <td>0.0</td>\n",
       "      <td>0.0</td>\n",
       "      <td>0.0</td>\n",
       "      <td>0.0</td>\n",
       "      <td>0</td>\n",
       "    </tr>\n",
       "    <tr>\n",
       "      <th>3967</th>\n",
       "      <td>7341075676</td>\n",
       "      <td>0.0</td>\n",
       "      <td>1</td>\n",
       "      <td>1.000000</td>\n",
       "      <td>1</td>\n",
       "      <td>0.0</td>\n",
       "      <td>0.0</td>\n",
       "      <td>0.0</td>\n",
       "      <td>0.0</td>\n",
       "      <td>4</td>\n",
       "      <td>0.0</td>\n",
       "      <td>0.0</td>\n",
       "      <td>0.0</td>\n",
       "      <td>0.0</td>\n",
       "      <td>0.0</td>\n",
       "      <td>0.0</td>\n",
       "      <td>0</td>\n",
       "    </tr>\n",
       "    <tr>\n",
       "      <th>4148</th>\n",
       "      <td>7348949046</td>\n",
       "      <td>0.0</td>\n",
       "      <td>1</td>\n",
       "      <td>1.000000</td>\n",
       "      <td>2</td>\n",
       "      <td>0.0</td>\n",
       "      <td>0.0</td>\n",
       "      <td>0.0</td>\n",
       "      <td>0.0</td>\n",
       "      <td>0</td>\n",
       "      <td>0.0</td>\n",
       "      <td>4.5</td>\n",
       "      <td>3.0</td>\n",
       "      <td>2.0</td>\n",
       "      <td>1.0</td>\n",
       "      <td>0.0</td>\n",
       "      <td>1</td>\n",
       "    </tr>\n",
       "    <tr>\n",
       "      <th>4259</th>\n",
       "      <td>7351952873</td>\n",
       "      <td>0.0</td>\n",
       "      <td>1</td>\n",
       "      <td>1.000000</td>\n",
       "      <td>2</td>\n",
       "      <td>0.0</td>\n",
       "      <td>0.0</td>\n",
       "      <td>0.0</td>\n",
       "      <td>0.0</td>\n",
       "      <td>1</td>\n",
       "      <td>0.0</td>\n",
       "      <td>7.0</td>\n",
       "      <td>3.5</td>\n",
       "      <td>1.5</td>\n",
       "      <td>1.5</td>\n",
       "      <td>0.0</td>\n",
       "      <td>0</td>\n",
       "    </tr>\n",
       "  </tbody>\n",
       "</table>\n",
       "</div>"
      ],
      "text/plain": [
       "         user_id  account_id  max_return_days  average_return_days  \\\n",
       "764     61519179         0.0                2             1.066667   \n",
       "1002   614367929         0.0               31            31.000000   \n",
       "2276   734097700         0.0                1             1.000000   \n",
       "3792  7334120726         0.0                1             1.000000   \n",
       "3967  7341075676         0.0                1             1.000000   \n",
       "4148  7348949046         0.0                1             1.000000   \n",
       "4259  7351952873         0.0                1             1.000000   \n",
       "\n",
       "      customer_since_months  total_revenue  average_revenue  avg_vas_count  \\\n",
       "764                      15            0.0              0.0            3.1   \n",
       "1002                      1            0.0              0.0            0.0   \n",
       "2276                      1            0.0              0.0            0.0   \n",
       "3792                      1            0.0              0.0            0.0   \n",
       "3967                      1            0.0              0.0            0.0   \n",
       "4148                      2            0.0              0.0            0.0   \n",
       "4259                      2            0.0              0.0            0.0   \n",
       "\n",
       "      avg_used_vas_value  business_type  avg_wallet_bonus  avg_active_ads  \\\n",
       "764                 73.0              0             400.0            82.4   \n",
       "1002                 0.0              0               0.0           288.0   \n",
       "2276                 0.0              4               0.0             0.0   \n",
       "3792                 0.0              0               0.0             0.0   \n",
       "3967                 0.0              4               0.0             0.0   \n",
       "4148                 0.0              0               0.0             4.5   \n",
       "4259                 0.0              1               0.0             7.0   \n",
       "\n",
       "      avg_new_ads  avg_email_replies  avg_call_replies  avg_sms_replies  \\\n",
       "764          13.0               11.0              11.5              0.0   \n",
       "1002        288.0               33.0              32.0              0.0   \n",
       "2276          0.0                0.0               0.0              0.0   \n",
       "3792          0.0                0.0               0.0              0.0   \n",
       "3967          0.0                0.0               0.0              0.0   \n",
       "4148          3.0                2.0               1.0              0.0   \n",
       "4259          3.5                1.5               1.5              0.0   \n",
       "\n",
       "      target  \n",
       "764        0  \n",
       "1002       0  \n",
       "2276       0  \n",
       "3792       0  \n",
       "3967       0  \n",
       "4148       1  \n",
       "4259       0  "
      ]
     },
     "execution_count": 10,
     "metadata": {},
     "output_type": "execute_result"
    }
   ],
   "source": [
    "# represent all no_account mention or '0' accaount_id \n",
    "data_df[data_df['account_id']==0]"
   ]
  },
  {
   "cell_type": "markdown",
   "metadata": {},
   "source": [
    "### There are only 6 unique  business_type ranges   from 0 to 5"
   ]
  },
  {
   "cell_type": "code",
   "execution_count": 11,
   "metadata": {},
   "outputs": [
    {
     "data": {
      "text/plain": [
       "array([0, 3, 5, 1, 4, 2], dtype=int64)"
      ]
     },
     "execution_count": 11,
     "metadata": {},
     "output_type": "execute_result"
    }
   ],
   "source": [
    "data_df['business_type'].unique()"
   ]
  },
  {
   "cell_type": "markdown",
   "metadata": {},
   "source": [
    "### All unique account_id mention in the data"
   ]
  },
  {
   "cell_type": "code",
   "execution_count": 12,
   "metadata": {},
   "outputs": [
    {
     "data": {
      "text/plain": [
       "array([ 496.,  499.,  493.,  262.,  113., 1005., 1017.,  112.,  111.,\n",
       "        364.,  202.,  517.,  226.,  116.,    0.,  115.])"
      ]
     },
     "execution_count": 12,
     "metadata": {},
     "output_type": "execute_result"
    }
   ],
   "source": [
    "data_df['account_id'].unique()"
   ]
  },
  {
   "cell_type": "markdown",
   "metadata": {},
   "source": [
    "### Diagram representaion of account_id mention in the data"
   ]
  },
  {
   "cell_type": "code",
   "execution_count": 13,
   "metadata": {},
   "outputs": [
    {
     "data": {
      "text/plain": [
       "<matplotlib.axes._subplots.AxesSubplot at 0x29cfb8ee438>"
      ]
     },
     "execution_count": 13,
     "metadata": {},
     "output_type": "execute_result"
    },
    {
     "data": {
      "image/png": "[encoded data removed]",
      "text/plain": [
       "<Figure size 720x720 with 1 Axes>"
      ]
     },
     "metadata": {
      "needs_background": "light"
     },
     "output_type": "display_data"
    }
   ],
   "source": [
    "plt.figure(figsize=[10,10])\n",
    "sns.countplot(data_df['account_id'])"
   ]
  },
  {
   "cell_type": "markdown",
   "metadata": {},
   "source": [
    "* Account id =100.5 define maximum rows while null or '0' account id are few rows "
   ]
  },
  {
   "cell_type": "markdown",
   "metadata": {},
   "source": [
    "### Digram representation of business_type column"
   ]
  },
  {
   "cell_type": "code",
   "execution_count": 14,
   "metadata": {},
   "outputs": [
    {
     "data": {
      "text/plain": [
       "<matplotlib.axes._subplots.AxesSubplot at 0x29cfc289438>"
      ]
     },
     "execution_count": 14,
     "metadata": {},
     "output_type": "execute_result"
    },
    {
     "data": {
      "image/png": "[encoded data removed]",
      "text/plain": [
       "<Figure size 720x720 with 1 Axes>"
      ]
     },
     "metadata": {
      "needs_background": "light"
     },
     "output_type": "display_data"
    }
   ],
   "source": [
    "plt.figure(figsize=[10,10])\n",
    "sns.countplot(data_df['business_type'])"
   ]
  },
  {
   "cell_type": "markdown",
   "metadata": {},
   "source": [
    "* Here only  business_type =0 consists max no of rows"
   ]
  },
  {
   "cell_type": "markdown",
   "metadata": {},
   "source": [
    "### Grouping of data"
   ]
  },
  {
   "cell_type": "markdown",
   "metadata": {},
   "source": [
    "Grouping of data according to **account_id** and sort in descending order of mean value in **target** column"
   ]
  },
  {
   "cell_type": "code",
   "execution_count": 15,
   "metadata": {},
   "outputs": [
    {
     "data": {
      "text/html": [
       "<div>\n",
       "<style scoped>\n",
       "    .dataframe tbody tr th:only-of-type {\n",
       "        vertical-align: middle;\n",
       "    }\n",
       "\n",
       "    .dataframe tbody tr th {\n",
       "        vertical-align: top;\n",
       "    }\n",
       "\n",
       "    .dataframe thead th {\n",
       "        text-align: right;\n",
       "    }\n",
       "</style>\n",
       "<table border=\"1\" class=\"dataframe\">\n",
       "  <thead>\n",
       "    <tr style=\"text-align: right;\">\n",
       "      <th></th>\n",
       "      <th>user_id</th>\n",
       "      <th>max_return_days</th>\n",
       "      <th>average_return_days</th>\n",
       "      <th>customer_since_months</th>\n",
       "      <th>total_revenue</th>\n",
       "      <th>average_revenue</th>\n",
       "      <th>avg_vas_count</th>\n",
       "      <th>avg_used_vas_value</th>\n",
       "      <th>business_type</th>\n",
       "      <th>avg_wallet_bonus</th>\n",
       "      <th>avg_active_ads</th>\n",
       "      <th>avg_new_ads</th>\n",
       "      <th>avg_email_replies</th>\n",
       "      <th>avg_call_replies</th>\n",
       "      <th>avg_sms_replies</th>\n",
       "      <th>target</th>\n",
       "    </tr>\n",
       "    <tr>\n",
       "      <th>account_id</th>\n",
       "      <th></th>\n",
       "      <th></th>\n",
       "      <th></th>\n",
       "      <th></th>\n",
       "      <th></th>\n",
       "      <th></th>\n",
       "      <th></th>\n",
       "      <th></th>\n",
       "      <th></th>\n",
       "      <th></th>\n",
       "      <th></th>\n",
       "      <th></th>\n",
       "      <th></th>\n",
       "      <th></th>\n",
       "      <th></th>\n",
       "      <th></th>\n",
       "    </tr>\n",
       "  </thead>\n",
       "  <tbody>\n",
       "    <tr>\n",
       "      <th>115.0</th>\n",
       "      <td>6.115080e+09</td>\n",
       "      <td>35.109589</td>\n",
       "      <td>23.225792</td>\n",
       "      <td>3.479452</td>\n",
       "      <td>0.000000</td>\n",
       "      <td>0.000000</td>\n",
       "      <td>0.058531</td>\n",
       "      <td>1.143213</td>\n",
       "      <td>0.684932</td>\n",
       "      <td>8.219178</td>\n",
       "      <td>5.993293</td>\n",
       "      <td>4.121395</td>\n",
       "      <td>1.169361</td>\n",
       "      <td>0.762374</td>\n",
       "      <td>0.012557</td>\n",
       "      <td>0.506849</td>\n",
       "    </tr>\n",
       "    <tr>\n",
       "      <th>1017.0</th>\n",
       "      <td>6.063802e+09</td>\n",
       "      <td>52.006881</td>\n",
       "      <td>17.429941</td>\n",
       "      <td>4.727064</td>\n",
       "      <td>24.559741</td>\n",
       "      <td>5.067308</td>\n",
       "      <td>0.903996</td>\n",
       "      <td>18.081312</td>\n",
       "      <td>0.690367</td>\n",
       "      <td>71.371766</td>\n",
       "      <td>50.315691</td>\n",
       "      <td>19.910793</td>\n",
       "      <td>10.985714</td>\n",
       "      <td>11.010141</td>\n",
       "      <td>0.070759</td>\n",
       "      <td>0.233945</td>\n",
       "    </tr>\n",
       "    <tr>\n",
       "      <th>226.0</th>\n",
       "      <td>5.754454e+09</td>\n",
       "      <td>29.065455</td>\n",
       "      <td>11.485134</td>\n",
       "      <td>4.352727</td>\n",
       "      <td>14.528145</td>\n",
       "      <td>3.959819</td>\n",
       "      <td>0.835315</td>\n",
       "      <td>16.412891</td>\n",
       "      <td>0.549091</td>\n",
       "      <td>66.025636</td>\n",
       "      <td>36.363632</td>\n",
       "      <td>12.789952</td>\n",
       "      <td>12.314892</td>\n",
       "      <td>10.441858</td>\n",
       "      <td>0.079087</td>\n",
       "      <td>0.218182</td>\n",
       "    </tr>\n",
       "    <tr>\n",
       "      <th>1005.0</th>\n",
       "      <td>4.452284e+09</td>\n",
       "      <td>27.511696</td>\n",
       "      <td>7.626303</td>\n",
       "      <td>10.222222</td>\n",
       "      <td>131.032896</td>\n",
       "      <td>9.472965</td>\n",
       "      <td>2.767685</td>\n",
       "      <td>59.280691</td>\n",
       "      <td>0.328947</td>\n",
       "      <td>257.481930</td>\n",
       "      <td>65.738425</td>\n",
       "      <td>10.874464</td>\n",
       "      <td>20.006233</td>\n",
       "      <td>20.875483</td>\n",
       "      <td>0.124324</td>\n",
       "      <td>0.144737</td>\n",
       "    </tr>\n",
       "    <tr>\n",
       "      <th>0.0</th>\n",
       "      <td>4.398012e+09</td>\n",
       "      <td>5.428571</td>\n",
       "      <td>5.295238</td>\n",
       "      <td>3.285714</td>\n",
       "      <td>0.000000</td>\n",
       "      <td>0.000000</td>\n",
       "      <td>0.442857</td>\n",
       "      <td>10.428571</td>\n",
       "      <td>1.285714</td>\n",
       "      <td>57.142857</td>\n",
       "      <td>54.557143</td>\n",
       "      <td>43.928571</td>\n",
       "      <td>6.785714</td>\n",
       "      <td>6.571429</td>\n",
       "      <td>0.000000</td>\n",
       "      <td>0.142857</td>\n",
       "    </tr>\n",
       "    <tr>\n",
       "      <th>517.0</th>\n",
       "      <td>3.767219e+09</td>\n",
       "      <td>31.625000</td>\n",
       "      <td>10.463901</td>\n",
       "      <td>7.491071</td>\n",
       "      <td>44.766522</td>\n",
       "      <td>5.187686</td>\n",
       "      <td>3.434607</td>\n",
       "      <td>74.825856</td>\n",
       "      <td>0.580357</td>\n",
       "      <td>133.968929</td>\n",
       "      <td>117.986870</td>\n",
       "      <td>25.118301</td>\n",
       "      <td>21.901275</td>\n",
       "      <td>21.839603</td>\n",
       "      <td>0.122375</td>\n",
       "      <td>0.089286</td>\n",
       "    </tr>\n",
       "    <tr>\n",
       "      <th>116.0</th>\n",
       "      <td>4.070598e+09</td>\n",
       "      <td>8.970588</td>\n",
       "      <td>4.705279</td>\n",
       "      <td>2.647059</td>\n",
       "      <td>83.129474</td>\n",
       "      <td>60.697482</td>\n",
       "      <td>0.844188</td>\n",
       "      <td>19.324230</td>\n",
       "      <td>1.411765</td>\n",
       "      <td>10.000000</td>\n",
       "      <td>31.096639</td>\n",
       "      <td>12.753151</td>\n",
       "      <td>19.775910</td>\n",
       "      <td>22.484244</td>\n",
       "      <td>0.317927</td>\n",
       "      <td>0.088235</td>\n",
       "    </tr>\n",
       "    <tr>\n",
       "      <th>493.0</th>\n",
       "      <td>3.533990e+09</td>\n",
       "      <td>18.602484</td>\n",
       "      <td>5.454846</td>\n",
       "      <td>11.619048</td>\n",
       "      <td>170.376729</td>\n",
       "      <td>15.205316</td>\n",
       "      <td>3.576368</td>\n",
       "      <td>80.700522</td>\n",
       "      <td>0.383023</td>\n",
       "      <td>364.813810</td>\n",
       "      <td>77.351936</td>\n",
       "      <td>12.289079</td>\n",
       "      <td>24.575019</td>\n",
       "      <td>28.209383</td>\n",
       "      <td>0.169055</td>\n",
       "      <td>0.074534</td>\n",
       "    </tr>\n",
       "    <tr>\n",
       "      <th>111.0</th>\n",
       "      <td>3.063956e+09</td>\n",
       "      <td>17.443548</td>\n",
       "      <td>3.341883</td>\n",
       "      <td>12.326613</td>\n",
       "      <td>447.970210</td>\n",
       "      <td>38.319862</td>\n",
       "      <td>4.475123</td>\n",
       "      <td>102.814117</td>\n",
       "      <td>0.306452</td>\n",
       "      <td>675.896210</td>\n",
       "      <td>204.052403</td>\n",
       "      <td>30.773845</td>\n",
       "      <td>37.766449</td>\n",
       "      <td>42.609172</td>\n",
       "      <td>0.144036</td>\n",
       "      <td>0.068548</td>\n",
       "    </tr>\n",
       "    <tr>\n",
       "      <th>499.0</th>\n",
       "      <td>3.316880e+09</td>\n",
       "      <td>13.252677</td>\n",
       "      <td>3.752743</td>\n",
       "      <td>11.428266</td>\n",
       "      <td>175.130602</td>\n",
       "      <td>12.826756</td>\n",
       "      <td>3.995148</td>\n",
       "      <td>89.521385</td>\n",
       "      <td>0.428266</td>\n",
       "      <td>432.883876</td>\n",
       "      <td>106.088634</td>\n",
       "      <td>12.946572</td>\n",
       "      <td>28.139810</td>\n",
       "      <td>30.697796</td>\n",
       "      <td>0.147895</td>\n",
       "      <td>0.068522</td>\n",
       "    </tr>\n",
       "    <tr>\n",
       "      <th>496.0</th>\n",
       "      <td>2.750394e+09</td>\n",
       "      <td>17.462527</td>\n",
       "      <td>5.178818</td>\n",
       "      <td>11.820128</td>\n",
       "      <td>247.008362</td>\n",
       "      <td>18.866281</td>\n",
       "      <td>3.708272</td>\n",
       "      <td>83.301896</td>\n",
       "      <td>0.556745</td>\n",
       "      <td>383.252227</td>\n",
       "      <td>95.625572</td>\n",
       "      <td>13.194191</td>\n",
       "      <td>30.379574</td>\n",
       "      <td>32.110080</td>\n",
       "      <td>0.187255</td>\n",
       "      <td>0.055675</td>\n",
       "    </tr>\n",
       "    <tr>\n",
       "      <th>364.0</th>\n",
       "      <td>4.102421e+09</td>\n",
       "      <td>23.611940</td>\n",
       "      <td>8.747655</td>\n",
       "      <td>10.925373</td>\n",
       "      <td>103.667630</td>\n",
       "      <td>10.336662</td>\n",
       "      <td>3.751268</td>\n",
       "      <td>85.570784</td>\n",
       "      <td>0.388060</td>\n",
       "      <td>480.276269</td>\n",
       "      <td>105.058863</td>\n",
       "      <td>12.028863</td>\n",
       "      <td>23.465096</td>\n",
       "      <td>25.358330</td>\n",
       "      <td>0.116026</td>\n",
       "      <td>0.044776</td>\n",
       "    </tr>\n",
       "    <tr>\n",
       "      <th>262.0</th>\n",
       "      <td>4.243408e+09</td>\n",
       "      <td>14.579909</td>\n",
       "      <td>4.324251</td>\n",
       "      <td>11.554795</td>\n",
       "      <td>145.541001</td>\n",
       "      <td>11.847281</td>\n",
       "      <td>3.577955</td>\n",
       "      <td>82.606881</td>\n",
       "      <td>0.557078</td>\n",
       "      <td>367.323562</td>\n",
       "      <td>79.819283</td>\n",
       "      <td>11.362929</td>\n",
       "      <td>26.544012</td>\n",
       "      <td>28.472782</td>\n",
       "      <td>0.177299</td>\n",
       "      <td>0.043379</td>\n",
       "    </tr>\n",
       "    <tr>\n",
       "      <th>112.0</th>\n",
       "      <td>4.578054e+09</td>\n",
       "      <td>8.466216</td>\n",
       "      <td>2.385927</td>\n",
       "      <td>10.709459</td>\n",
       "      <td>1135.505697</td>\n",
       "      <td>97.022732</td>\n",
       "      <td>7.270586</td>\n",
       "      <td>156.560922</td>\n",
       "      <td>0.331081</td>\n",
       "      <td>787.821419</td>\n",
       "      <td>310.878519</td>\n",
       "      <td>57.724286</td>\n",
       "      <td>71.341810</td>\n",
       "      <td>79.210379</td>\n",
       "      <td>0.602380</td>\n",
       "      <td>0.027027</td>\n",
       "    </tr>\n",
       "    <tr>\n",
       "      <th>202.0</th>\n",
       "      <td>5.581447e+09</td>\n",
       "      <td>7.837838</td>\n",
       "      <td>3.374195</td>\n",
       "      <td>9.522523</td>\n",
       "      <td>30.817686</td>\n",
       "      <td>3.328048</td>\n",
       "      <td>3.373690</td>\n",
       "      <td>70.123245</td>\n",
       "      <td>0.684685</td>\n",
       "      <td>343.915946</td>\n",
       "      <td>121.213437</td>\n",
       "      <td>12.923462</td>\n",
       "      <td>24.926266</td>\n",
       "      <td>25.963116</td>\n",
       "      <td>0.134858</td>\n",
       "      <td>0.018018</td>\n",
       "    </tr>\n",
       "    <tr>\n",
       "      <th>113.0</th>\n",
       "      <td>2.700798e+09</td>\n",
       "      <td>10.934483</td>\n",
       "      <td>3.924192</td>\n",
       "      <td>11.606897</td>\n",
       "      <td>357.658556</td>\n",
       "      <td>32.042842</td>\n",
       "      <td>4.921719</td>\n",
       "      <td>110.006119</td>\n",
       "      <td>0.700000</td>\n",
       "      <td>505.515138</td>\n",
       "      <td>183.746526</td>\n",
       "      <td>28.472414</td>\n",
       "      <td>39.299998</td>\n",
       "      <td>43.000964</td>\n",
       "      <td>0.274784</td>\n",
       "      <td>0.003448</td>\n",
       "    </tr>\n",
       "  </tbody>\n",
       "</table>\n",
       "</div>"
      ],
      "text/plain": [
       "                 user_id  max_return_days  average_return_days  \\\n",
       "account_id                                                       \n",
       "115.0       6.115080e+09        35.109589            23.225792   \n",
       "1017.0      6.063802e+09        52.006881            17.429941   \n",
       "226.0       5.754454e+09        29.065455            11.485134   \n",
       "1005.0      4.452284e+09        27.511696             7.626303   \n",
       "0.0         4.398012e+09         5.428571             5.295238   \n",
       "517.0       3.767219e+09        31.625000            10.463901   \n",
       "116.0       4.070598e+09         8.970588             4.705279   \n",
       "493.0       3.533990e+09        18.602484             5.454846   \n",
       "111.0       3.063956e+09        17.443548             3.341883   \n",
       "499.0       3.316880e+09        13.252677             3.752743   \n",
       "496.0       2.750394e+09        17.462527             5.178818   \n",
       "364.0       4.102421e+09        23.611940             8.747655   \n",
       "262.0       4.243408e+09        14.579909             4.324251   \n",
       "112.0       4.578054e+09         8.466216             2.385927   \n",
       "202.0       5.581447e+09         7.837838             3.374195   \n",
       "113.0       2.700798e+09        10.934483             3.924192   \n",
       "\n",
       "            customer_since_months  total_revenue  average_revenue  \\\n",
       "account_id                                                          \n",
       "115.0                    3.479452       0.000000         0.000000   \n",
       "1017.0                   4.727064      24.559741         5.067308   \n",
       "226.0                    4.352727      14.528145         3.959819   \n",
       "1005.0                  10.222222     131.032896         9.472965   \n",
       "0.0                      3.285714       0.000000         0.000000   \n",
       "517.0                    7.491071      44.766522         5.187686   \n",
       "116.0                    2.647059      83.129474        60.697482   \n",
       "493.0                   11.619048     170.376729        15.205316   \n",
       "111.0                   12.326613     447.970210        38.319862   \n",
       "499.0                   11.428266     175.130602        12.826756   \n",
       "496.0                   11.820128     247.008362        18.866281   \n",
       "364.0                   10.925373     103.667630        10.336662   \n",
       "262.0                   11.554795     145.541001        11.847281   \n",
       "112.0                   10.709459    1135.505697        97.022732   \n",
       "202.0                    9.522523      30.817686         3.328048   \n",
       "113.0                   11.606897     357.658556        32.042842   \n",
       "\n",
       "            avg_vas_count  avg_used_vas_value  business_type  \\\n",
       "account_id                                                     \n",
       "115.0            0.058531            1.143213       0.684932   \n",
       "1017.0           0.903996           18.081312       0.690367   \n",
       "226.0            0.835315           16.412891       0.549091   \n",
       "1005.0           2.767685           59.280691       0.328947   \n",
       "0.0              0.442857           10.428571       1.285714   \n",
       "517.0            3.434607           74.825856       0.580357   \n",
       "116.0            0.844188           19.324230       1.411765   \n",
       "493.0            3.576368           80.700522       0.383023   \n",
       "111.0            4.475123          102.814117       0.306452   \n",
       "499.0            3.995148           89.521385       0.428266   \n",
       "496.0            3.708272           83.301896       0.556745   \n",
       "364.0            3.751268           85.570784       0.388060   \n",
       "262.0            3.577955           82.606881       0.557078   \n",
       "112.0            7.270586          156.560922       0.331081   \n",
       "202.0            3.373690           70.123245       0.684685   \n",
       "113.0            4.921719          110.006119       0.700000   \n",
       "\n",
       "            avg_wallet_bonus  avg_active_ads  avg_new_ads  avg_email_replies  \\\n",
       "account_id                                                                     \n",
       "115.0               8.219178        5.993293     4.121395           1.169361   \n",
       "1017.0             71.371766       50.315691    19.910793          10.985714   \n",
       "226.0              66.025636       36.363632    12.789952          12.314892   \n",
       "1005.0            257.481930       65.738425    10.874464          20.006233   \n",
       "0.0                57.142857       54.557143    43.928571           6.785714   \n",
       "517.0             133.968929      117.986870    25.118301          21.901275   \n",
       "116.0              10.000000       31.096639    12.753151          19.775910   \n",
       "493.0             364.813810       77.351936    12.289079          24.575019   \n",
       "111.0             675.896210      204.052403    30.773845          37.766449   \n",
       "499.0             432.883876      106.088634    12.946572          28.139810   \n",
       "496.0             383.252227       95.625572    13.194191          30.379574   \n",
       "364.0             480.276269      105.058863    12.028863          23.465096   \n",
       "262.0             367.323562       79.819283    11.362929          26.544012   \n",
       "112.0             787.821419      310.878519    57.724286          71.341810   \n",
       "202.0             343.915946      121.213437    12.923462          24.926266   \n",
       "113.0             505.515138      183.746526    28.472414          39.299998   \n",
       "\n",
       "            avg_call_replies  avg_sms_replies    target  \n",
       "account_id                                               \n",
       "115.0               0.762374         0.012557  0.506849  \n",
       "1017.0             11.010141         0.070759  0.233945  \n",
       "226.0              10.441858         0.079087  0.218182  \n",
       "1005.0             20.875483         0.124324  0.144737  \n",
       "0.0                 6.571429         0.000000  0.142857  \n",
       "517.0              21.839603         0.122375  0.089286  \n",
       "116.0              22.484244         0.317927  0.088235  \n",
       "493.0              28.209383         0.169055  0.074534  \n",
       "111.0              42.609172         0.144036  0.068548  \n",
       "499.0              30.697796         0.147895  0.068522  \n",
       "496.0              32.110080         0.187255  0.055675  \n",
       "364.0              25.358330         0.116026  0.044776  \n",
       "262.0              28.472782         0.177299  0.043379  \n",
       "112.0              79.210379         0.602380  0.027027  \n",
       "202.0              25.963116         0.134858  0.018018  \n",
       "113.0              43.000964         0.274784  0.003448  "
      ]
     },
     "execution_count": 15,
     "metadata": {},
     "output_type": "execute_result"
    }
   ],
   "source": [
    "data_df.groupby(['account_id']).mean().sort_values('target',ascending=False)"
   ]
  },
  {
   "cell_type": "markdown",
   "metadata": {},
   "source": [
    "Grouping of **account_id** and there **business_type** according to the mean value."
   ]
  },
  {
   "cell_type": "code",
   "execution_count": 16,
   "metadata": {},
   "outputs": [
    {
     "data": {
      "text/html": [
       "<div>\n",
       "<style scoped>\n",
       "    .dataframe tbody tr th:only-of-type {\n",
       "        vertical-align: middle;\n",
       "    }\n",
       "\n",
       "    .dataframe tbody tr th {\n",
       "        vertical-align: top;\n",
       "    }\n",
       "\n",
       "    .dataframe thead th {\n",
       "        text-align: right;\n",
       "    }\n",
       "</style>\n",
       "<table border=\"1\" class=\"dataframe\">\n",
       "  <thead>\n",
       "    <tr style=\"text-align: right;\">\n",
       "      <th></th>\n",
       "      <th></th>\n",
       "      <th>user_id</th>\n",
       "      <th>max_return_days</th>\n",
       "      <th>average_return_days</th>\n",
       "      <th>customer_since_months</th>\n",
       "      <th>total_revenue</th>\n",
       "      <th>average_revenue</th>\n",
       "      <th>avg_vas_count</th>\n",
       "      <th>avg_used_vas_value</th>\n",
       "      <th>avg_wallet_bonus</th>\n",
       "      <th>avg_active_ads</th>\n",
       "      <th>avg_new_ads</th>\n",
       "      <th>avg_email_replies</th>\n",
       "      <th>avg_call_replies</th>\n",
       "      <th>avg_sms_replies</th>\n",
       "      <th>target</th>\n",
       "    </tr>\n",
       "    <tr>\n",
       "      <th>account_id</th>\n",
       "      <th>business_type</th>\n",
       "      <th></th>\n",
       "      <th></th>\n",
       "      <th></th>\n",
       "      <th></th>\n",
       "      <th></th>\n",
       "      <th></th>\n",
       "      <th></th>\n",
       "      <th></th>\n",
       "      <th></th>\n",
       "      <th></th>\n",
       "      <th></th>\n",
       "      <th></th>\n",
       "      <th></th>\n",
       "      <th></th>\n",
       "      <th></th>\n",
       "    </tr>\n",
       "  </thead>\n",
       "  <tbody>\n",
       "    <tr>\n",
       "      <th rowspan=\"3\" valign=\"top\">0.0</th>\n",
       "      <th>0</th>\n",
       "      <td>3.839739e+09</td>\n",
       "      <td>8.750000</td>\n",
       "      <td>8.516667</td>\n",
       "      <td>4.750000</td>\n",
       "      <td>0.000000</td>\n",
       "      <td>0.000000</td>\n",
       "      <td>0.775000</td>\n",
       "      <td>18.250000</td>\n",
       "      <td>100.000000</td>\n",
       "      <td>93.725000</td>\n",
       "      <td>76.000000</td>\n",
       "      <td>11.500000</td>\n",
       "      <td>11.125000</td>\n",
       "      <td>0.000000</td>\n",
       "      <td>0.250000</td>\n",
       "    </tr>\n",
       "    <tr>\n",
       "      <th>1</th>\n",
       "      <td>7.351953e+09</td>\n",
       "      <td>1.000000</td>\n",
       "      <td>1.000000</td>\n",
       "      <td>2.000000</td>\n",
       "      <td>0.000000</td>\n",
       "      <td>0.000000</td>\n",
       "      <td>0.000000</td>\n",
       "      <td>0.000000</td>\n",
       "      <td>0.000000</td>\n",
       "      <td>7.000000</td>\n",
       "      <td>3.500000</td>\n",
       "      <td>1.500000</td>\n",
       "      <td>1.500000</td>\n",
       "      <td>0.000000</td>\n",
       "      <td>0.000000</td>\n",
       "    </tr>\n",
       "    <tr>\n",
       "      <th>4</th>\n",
       "      <td>4.037587e+09</td>\n",
       "      <td>1.000000</td>\n",
       "      <td>1.000000</td>\n",
       "      <td>1.000000</td>\n",
       "      <td>0.000000</td>\n",
       "      <td>0.000000</td>\n",
       "      <td>0.000000</td>\n",
       "      <td>0.000000</td>\n",
       "      <td>0.000000</td>\n",
       "      <td>0.000000</td>\n",
       "      <td>0.000000</td>\n",
       "      <td>0.000000</td>\n",
       "      <td>0.000000</td>\n",
       "      <td>0.000000</td>\n",
       "      <td>0.000000</td>\n",
       "    </tr>\n",
       "    <tr>\n",
       "      <th rowspan=\"4\" valign=\"top\">111.0</th>\n",
       "      <th>0</th>\n",
       "      <td>2.591060e+09</td>\n",
       "      <td>19.492228</td>\n",
       "      <td>3.163043</td>\n",
       "      <td>13.564767</td>\n",
       "      <td>491.397384</td>\n",
       "      <td>42.164390</td>\n",
       "      <td>5.316706</td>\n",
       "      <td>122.629805</td>\n",
       "      <td>797.824249</td>\n",
       "      <td>227.339319</td>\n",
       "      <td>30.551549</td>\n",
       "      <td>43.588119</td>\n",
       "      <td>49.329249</td>\n",
       "      <td>0.149793</td>\n",
       "      <td>0.041451</td>\n",
       "    </tr>\n",
       "    <tr>\n",
       "      <th>1</th>\n",
       "      <td>4.187258e+09</td>\n",
       "      <td>14.702703</td>\n",
       "      <td>5.391526</td>\n",
       "      <td>9.432432</td>\n",
       "      <td>115.076130</td>\n",
       "      <td>7.426247</td>\n",
       "      <td>1.676330</td>\n",
       "      <td>34.484820</td>\n",
       "      <td>106.275135</td>\n",
       "      <td>25.989129</td>\n",
       "      <td>9.112968</td>\n",
       "      <td>10.381740</td>\n",
       "      <td>14.094350</td>\n",
       "      <td>0.147852</td>\n",
       "      <td>0.000000</td>\n",
       "    </tr>\n",
       "    <tr>\n",
       "      <th>2</th>\n",
       "      <td>6.465846e+09</td>\n",
       "      <td>1.133333</td>\n",
       "      <td>1.055556</td>\n",
       "      <td>3.733333</td>\n",
       "      <td>0.000000</td>\n",
       "      <td>0.000000</td>\n",
       "      <td>0.271111</td>\n",
       "      <td>6.088889</td>\n",
       "      <td>60.666667</td>\n",
       "      <td>116.342222</td>\n",
       "      <td>76.131111</td>\n",
       "      <td>7.490000</td>\n",
       "      <td>5.656667</td>\n",
       "      <td>0.022222</td>\n",
       "      <td>0.600000</td>\n",
       "    </tr>\n",
       "    <tr>\n",
       "      <th>3</th>\n",
       "      <td>2.623419e+09</td>\n",
       "      <td>1.000000</td>\n",
       "      <td>1.000000</td>\n",
       "      <td>11.333333</td>\n",
       "      <td>3999.700000</td>\n",
       "      <td>363.609091</td>\n",
       "      <td>5.871795</td>\n",
       "      <td>154.358974</td>\n",
       "      <td>2933.333333</td>\n",
       "      <td>1340.592075</td>\n",
       "      <td>85.439394</td>\n",
       "      <td>152.365967</td>\n",
       "      <td>146.729604</td>\n",
       "      <td>0.335664</td>\n",
       "      <td>0.000000</td>\n",
       "    </tr>\n",
       "    <tr>\n",
       "      <th rowspan=\"3\" valign=\"top\">112.0</th>\n",
       "      <th>0</th>\n",
       "      <td>4.367308e+09</td>\n",
       "      <td>6.678571</td>\n",
       "      <td>1.771508</td>\n",
       "      <td>12.187500</td>\n",
       "      <td>1473.764053</td>\n",
       "      <td>125.638765</td>\n",
       "      <td>9.302995</td>\n",
       "      <td>200.405787</td>\n",
       "      <td>1034.343036</td>\n",
       "      <td>355.392394</td>\n",
       "      <td>58.292823</td>\n",
       "      <td>89.041795</td>\n",
       "      <td>99.665232</td>\n",
       "      <td>0.754668</td>\n",
       "      <td>0.000000</td>\n",
       "    </tr>\n",
       "    <tr>\n",
       "      <th>1</th>\n",
       "      <td>5.048285e+09</td>\n",
       "      <td>17.259259</td>\n",
       "      <td>4.285494</td>\n",
       "      <td>6.592593</td>\n",
       "      <td>110.861822</td>\n",
       "      <td>10.660101</td>\n",
       "      <td>0.923876</td>\n",
       "      <td>20.082779</td>\n",
       "      <td>27.820370</td>\n",
       "      <td>10.017411</td>\n",
       "      <td>3.214649</td>\n",
       "      <td>5.886863</td>\n",
       "      <td>8.447365</td>\n",
       "      <td>0.083143</td>\n",
       "      <td>0.000000</td>\n",
       "    </tr>\n",
       "    <tr>\n",
       "      <th>2</th>\n",
       "      <td>6.243411e+09</td>\n",
       "      <td>1.000000</td>\n",
       "      <td>1.000000</td>\n",
       "      <td>3.666667</td>\n",
       "      <td>0.000000</td>\n",
       "      <td>0.000000</td>\n",
       "      <td>1.527778</td>\n",
       "      <td>30.555556</td>\n",
       "      <td>0.000000</td>\n",
       "      <td>307.138889</td>\n",
       "      <td>108.805556</td>\n",
       "      <td>5.583333</td>\n",
       "      <td>4.694444</td>\n",
       "      <td>0.000000</td>\n",
       "      <td>0.666667</td>\n",
       "    </tr>\n",
       "  </tbody>\n",
       "</table>\n",
       "</div>"
      ],
      "text/plain": [
       "                               user_id  max_return_days  average_return_days  \\\n",
       "account_id business_type                                                       \n",
       "0.0        0              3.839739e+09         8.750000             8.516667   \n",
       "           1              7.351953e+09         1.000000             1.000000   \n",
       "           4              4.037587e+09         1.000000             1.000000   \n",
       "111.0      0              2.591060e+09        19.492228             3.163043   \n",
       "           1              4.187258e+09        14.702703             5.391526   \n",
       "           2              6.465846e+09         1.133333             1.055556   \n",
       "           3              2.623419e+09         1.000000             1.000000   \n",
       "112.0      0              4.367308e+09         6.678571             1.771508   \n",
       "           1              5.048285e+09        17.259259             4.285494   \n",
       "           2              6.243411e+09         1.000000             1.000000   \n",
       "\n",
       "                          customer_since_months  total_revenue  \\\n",
       "account_id business_type                                         \n",
       "0.0        0                           4.750000       0.000000   \n",
       "           1                           2.000000       0.000000   \n",
       "           4                           1.000000       0.000000   \n",
       "111.0      0                          13.564767     491.397384   \n",
       "           1                           9.432432     115.076130   \n",
       "           2                           3.733333       0.000000   \n",
       "           3                          11.333333    3999.700000   \n",
       "112.0      0                          12.187500    1473.764053   \n",
       "           1                           6.592593     110.861822   \n",
       "           2                           3.666667       0.000000   \n",
       "\n",
       "                          average_revenue  avg_vas_count  avg_used_vas_value  \\\n",
       "account_id business_type                                                       \n",
       "0.0        0                     0.000000       0.775000           18.250000   \n",
       "           1                     0.000000       0.000000            0.000000   \n",
       "           4                     0.000000       0.000000            0.000000   \n",
       "111.0      0                    42.164390       5.316706          122.629805   \n",
       "           1                     7.426247       1.676330           34.484820   \n",
       "           2                     0.000000       0.271111            6.088889   \n",
       "           3                   363.609091       5.871795          154.358974   \n",
       "112.0      0                   125.638765       9.302995          200.405787   \n",
       "           1                    10.660101       0.923876           20.082779   \n",
       "           2                     0.000000       1.527778           30.555556   \n",
       "\n",
       "                          avg_wallet_bonus  avg_active_ads  avg_new_ads  \\\n",
       "account_id business_type                                                  \n",
       "0.0        0                    100.000000       93.725000    76.000000   \n",
       "           1                      0.000000        7.000000     3.500000   \n",
       "           4                      0.000000        0.000000     0.000000   \n",
       "111.0      0                    797.824249      227.339319    30.551549   \n",
       "           1                    106.275135       25.989129     9.112968   \n",
       "           2                     60.666667      116.342222    76.131111   \n",
       "           3                   2933.333333     1340.592075    85.439394   \n",
       "112.0      0                   1034.343036      355.392394    58.292823   \n",
       "           1                     27.820370       10.017411     3.214649   \n",
       "           2                      0.000000      307.138889   108.805556   \n",
       "\n",
       "                          avg_email_replies  avg_call_replies  \\\n",
       "account_id business_type                                        \n",
       "0.0        0                      11.500000         11.125000   \n",
       "           1                       1.500000          1.500000   \n",
       "           4                       0.000000          0.000000   \n",
       "111.0      0                      43.588119         49.329249   \n",
       "           1                      10.381740         14.094350   \n",
       "           2                       7.490000          5.656667   \n",
       "           3                     152.365967        146.729604   \n",
       "112.0      0                      89.041795         99.665232   \n",
       "           1                       5.886863          8.447365   \n",
       "           2                       5.583333          4.694444   \n",
       "\n",
       "                          avg_sms_replies    target  \n",
       "account_id business_type                             \n",
       "0.0        0                     0.000000  0.250000  \n",
       "           1                     0.000000  0.000000  \n",
       "           4                     0.000000  0.000000  \n",
       "111.0      0                     0.149793  0.041451  \n",
       "           1                     0.147852  0.000000  \n",
       "           2                     0.022222  0.600000  \n",
       "           3                     0.335664  0.000000  \n",
       "112.0      0                     0.754668  0.000000  \n",
       "           1                     0.083143  0.000000  \n",
       "           2                     0.000000  0.666667  "
      ]
     },
     "execution_count": 16,
     "metadata": {},
     "output_type": "execute_result"
    }
   ],
   "source": [
    "data_df.groupby(['account_id','business_type']).mean().head(10)"
   ]
  },
  {
   "cell_type": "markdown",
   "metadata": {},
   "source": [
    "Grouping of data column like  **account_id** and **business_type** represent with mean value of other  and sort in descending order of  **target** column"
   ]
  },
  {
   "cell_type": "code",
   "execution_count": 17,
   "metadata": {},
   "outputs": [
    {
     "data": {
      "text/html": [
       "<div>\n",
       "<style scoped>\n",
       "    .dataframe tbody tr th:only-of-type {\n",
       "        vertical-align: middle;\n",
       "    }\n",
       "\n",
       "    .dataframe tbody tr th {\n",
       "        vertical-align: top;\n",
       "    }\n",
       "\n",
       "    .dataframe thead th {\n",
       "        text-align: right;\n",
       "    }\n",
       "</style>\n",
       "<table border=\"1\" class=\"dataframe\">\n",
       "  <thead>\n",
       "    <tr style=\"text-align: right;\">\n",
       "      <th></th>\n",
       "      <th></th>\n",
       "      <th>user_id</th>\n",
       "      <th>max_return_days</th>\n",
       "      <th>average_return_days</th>\n",
       "      <th>customer_since_months</th>\n",
       "      <th>total_revenue</th>\n",
       "      <th>average_revenue</th>\n",
       "      <th>avg_vas_count</th>\n",
       "      <th>avg_used_vas_value</th>\n",
       "      <th>avg_wallet_bonus</th>\n",
       "      <th>avg_active_ads</th>\n",
       "      <th>avg_new_ads</th>\n",
       "      <th>avg_email_replies</th>\n",
       "      <th>avg_call_replies</th>\n",
       "      <th>avg_sms_replies</th>\n",
       "      <th>target</th>\n",
       "    </tr>\n",
       "    <tr>\n",
       "      <th>account_id</th>\n",
       "      <th>business_type</th>\n",
       "      <th></th>\n",
       "      <th></th>\n",
       "      <th></th>\n",
       "      <th></th>\n",
       "      <th></th>\n",
       "      <th></th>\n",
       "      <th></th>\n",
       "      <th></th>\n",
       "      <th></th>\n",
       "      <th></th>\n",
       "      <th></th>\n",
       "      <th></th>\n",
       "      <th></th>\n",
       "      <th></th>\n",
       "      <th></th>\n",
       "    </tr>\n",
       "  </thead>\n",
       "  <tbody>\n",
       "    <tr>\n",
       "      <th>115.0</th>\n",
       "      <th>5</th>\n",
       "      <td>7.235469e+09</td>\n",
       "      <td>87.666667</td>\n",
       "      <td>43.222222</td>\n",
       "      <td>5.0</td>\n",
       "      <td>0.0</td>\n",
       "      <td>0.0</td>\n",
       "      <td>0.0</td>\n",
       "      <td>0.0</td>\n",
       "      <td>0.0</td>\n",
       "      <td>0.277778</td>\n",
       "      <td>0.111111</td>\n",
       "      <td>0.333333</td>\n",
       "      <td>0.000000</td>\n",
       "      <td>0.000000</td>\n",
       "      <td>1.0</td>\n",
       "    </tr>\n",
       "    <tr>\n",
       "      <th>116.0</th>\n",
       "      <th>2</th>\n",
       "      <td>7.343775e+08</td>\n",
       "      <td>1.000000</td>\n",
       "      <td>1.000000</td>\n",
       "      <td>4.0</td>\n",
       "      <td>0.0</td>\n",
       "      <td>0.0</td>\n",
       "      <td>0.0</td>\n",
       "      <td>0.0</td>\n",
       "      <td>0.0</td>\n",
       "      <td>57.000000</td>\n",
       "      <td>14.250000</td>\n",
       "      <td>27.000000</td>\n",
       "      <td>10.250000</td>\n",
       "      <td>0.000000</td>\n",
       "      <td>1.0</td>\n",
       "    </tr>\n",
       "    <tr>\n",
       "      <th>1005.0</th>\n",
       "      <th>2</th>\n",
       "      <td>4.038634e+09</td>\n",
       "      <td>18.000000</td>\n",
       "      <td>4.400000</td>\n",
       "      <td>4.0</td>\n",
       "      <td>0.0</td>\n",
       "      <td>0.0</td>\n",
       "      <td>1.3</td>\n",
       "      <td>39.0</td>\n",
       "      <td>0.0</td>\n",
       "      <td>244.133333</td>\n",
       "      <td>80.333333</td>\n",
       "      <td>10.733333</td>\n",
       "      <td>9.100000</td>\n",
       "      <td>0.000000</td>\n",
       "      <td>1.0</td>\n",
       "    </tr>\n",
       "    <tr>\n",
       "      <th>517.0</th>\n",
       "      <th>2</th>\n",
       "      <td>7.339465e+09</td>\n",
       "      <td>1.000000</td>\n",
       "      <td>1.000000</td>\n",
       "      <td>7.0</td>\n",
       "      <td>0.0</td>\n",
       "      <td>0.0</td>\n",
       "      <td>0.0</td>\n",
       "      <td>0.0</td>\n",
       "      <td>0.0</td>\n",
       "      <td>840.000000</td>\n",
       "      <td>183.500000</td>\n",
       "      <td>38.000000</td>\n",
       "      <td>25.333333</td>\n",
       "      <td>0.333333</td>\n",
       "      <td>1.0</td>\n",
       "    </tr>\n",
       "    <tr>\n",
       "      <th>499.0</th>\n",
       "      <th>2</th>\n",
       "      <td>7.345472e+08</td>\n",
       "      <td>1.000000</td>\n",
       "      <td>1.000000</td>\n",
       "      <td>2.0</td>\n",
       "      <td>0.0</td>\n",
       "      <td>0.0</td>\n",
       "      <td>0.0</td>\n",
       "      <td>0.0</td>\n",
       "      <td>0.0</td>\n",
       "      <td>53.500000</td>\n",
       "      <td>31.000000</td>\n",
       "      <td>4.000000</td>\n",
       "      <td>4.500000</td>\n",
       "      <td>0.000000</td>\n",
       "      <td>1.0</td>\n",
       "    </tr>\n",
       "  </tbody>\n",
       "</table>\n",
       "</div>"
      ],
      "text/plain": [
       "                               user_id  max_return_days  average_return_days  \\\n",
       "account_id business_type                                                       \n",
       "115.0      5              7.235469e+09        87.666667            43.222222   \n",
       "116.0      2              7.343775e+08         1.000000             1.000000   \n",
       "1005.0     2              4.038634e+09        18.000000             4.400000   \n",
       "517.0      2              7.339465e+09         1.000000             1.000000   \n",
       "499.0      2              7.345472e+08         1.000000             1.000000   \n",
       "\n",
       "                          customer_since_months  total_revenue  \\\n",
       "account_id business_type                                         \n",
       "115.0      5                                5.0            0.0   \n",
       "116.0      2                                4.0            0.0   \n",
       "1005.0     2                                4.0            0.0   \n",
       "517.0      2                                7.0            0.0   \n",
       "499.0      2                                2.0            0.0   \n",
       "\n",
       "                          average_revenue  avg_vas_count  avg_used_vas_value  \\\n",
       "account_id business_type                                                       \n",
       "115.0      5                          0.0            0.0                 0.0   \n",
       "116.0      2                          0.0            0.0                 0.0   \n",
       "1005.0     2                          0.0            1.3                39.0   \n",
       "517.0      2                          0.0            0.0                 0.0   \n",
       "499.0      2                          0.0            0.0                 0.0   \n",
       "\n",
       "                          avg_wallet_bonus  avg_active_ads  avg_new_ads  \\\n",
       "account_id business_type                                                  \n",
       "115.0      5                           0.0        0.277778     0.111111   \n",
       "116.0      2                           0.0       57.000000    14.250000   \n",
       "1005.0     2                           0.0      244.133333    80.333333   \n",
       "517.0      2                           0.0      840.000000   183.500000   \n",
       "499.0      2                           0.0       53.500000    31.000000   \n",
       "\n",
       "                          avg_email_replies  avg_call_replies  \\\n",
       "account_id business_type                                        \n",
       "115.0      5                       0.333333          0.000000   \n",
       "116.0      2                      27.000000         10.250000   \n",
       "1005.0     2                      10.733333          9.100000   \n",
       "517.0      2                      38.000000         25.333333   \n",
       "499.0      2                       4.000000          4.500000   \n",
       "\n",
       "                          avg_sms_replies  target  \n",
       "account_id business_type                           \n",
       "115.0      5                     0.000000     1.0  \n",
       "116.0      2                     0.000000     1.0  \n",
       "1005.0     2                     0.000000     1.0  \n",
       "517.0      2                     0.333333     1.0  \n",
       "499.0      2                     0.000000     1.0  "
      ]
     },
     "execution_count": 17,
     "metadata": {},
     "output_type": "execute_result"
    }
   ],
   "source": [
    "data_df.groupby(['account_id','business_type']).mean().sort_values('target',ascending=False).head()"
   ]
  },
  {
   "cell_type": "markdown",
   "metadata": {},
   "source": [
    "Grouping of data according to   **account_id** and there **business_type** and count no of  rows for each type"
   ]
  },
  {
   "cell_type": "code",
   "execution_count": 18,
   "metadata": {},
   "outputs": [
    {
     "data": {
      "text/plain": [
       "account_id  business_type\n",
       "0.0         0                  4\n",
       "            1                  1\n",
       "            4                  2\n",
       "111.0       0                193\n",
       "            1                 37\n",
       "            2                 15\n",
       "            3                  3\n",
       "112.0       0                112\n",
       "            1                 27\n",
       "            2                  6\n",
       "Name: count, dtype: int64"
      ]
     },
     "execution_count": 18,
     "metadata": {},
     "output_type": "execute_result"
    }
   ],
   "source": [
    "data_df['count']=1\n",
    "data_df.groupby(['account_id','business_type']).count()['count'].head(10)"
   ]
  },
  {
   "cell_type": "markdown",
   "metadata": {},
   "source": [
    "As column name **user_id** contain all unique rows  \n",
    "### No of rows contain target value = 0"
   ]
  },
  {
   "cell_type": "code",
   "execution_count": 19,
   "metadata": {},
   "outputs": [
    {
     "data": {
      "text/plain": [
       "3952"
      ]
     },
     "execution_count": 19,
     "metadata": {},
     "output_type": "execute_result"
    }
   ],
   "source": [
    "data_df.loc[data_df['target']==0,'user_id'].count()"
   ]
  },
  {
   "cell_type": "markdown",
   "metadata": {},
   "source": [
    "### No of rows contain target value  = 1"
   ]
  },
  {
   "cell_type": "code",
   "execution_count": 20,
   "metadata": {},
   "outputs": [
    {
     "data": {
      "text/plain": [
       "455"
      ]
     },
     "execution_count": 20,
     "metadata": {},
     "output_type": "execute_result"
    }
   ],
   "source": [
    "data_df.loc[data_df['target']==1,'user_id'].count()"
   ]
  },
  {
   "cell_type": "markdown",
   "metadata": {},
   "source": [
    "### Diagram representation of taget value"
   ]
  },
  {
   "cell_type": "code",
   "execution_count": 21,
   "metadata": {},
   "outputs": [
    {
     "data": {
      "text/plain": [
       "<matplotlib.axes._subplots.AxesSubplot at 0x29cfc230198>"
      ]
     },
     "execution_count": 21,
     "metadata": {},
     "output_type": "execute_result"
    },
    {
     "data": {
      "image/png": "[encoded data removed]",
      "text/plain": [
       "<Figure size 432x288 with 1 Axes>"
      ]
     },
     "metadata": {
      "needs_background": "light"
     },
     "output_type": "display_data"
    }
   ],
   "source": [
    "data_df['target'].hist()"
   ]
  },
  {
   "cell_type": "markdown",
   "metadata": {},
   "source": [
    "Maximum value are **0** and very few  contain **1**"
   ]
  },
  {
   "cell_type": "markdown",
   "metadata": {},
   "source": [
    "### Represent all of columns names using df.columns"
   ]
  },
  {
   "cell_type": "code",
   "execution_count": 22,
   "metadata": {},
   "outputs": [
    {
     "data": {
      "text/plain": [
       "Index(['user_id', 'account_id', 'max_return_days', 'average_return_days',\n",
       "       'customer_since_months', 'total_revenue', 'average_revenue',\n",
       "       'avg_vas_count', 'avg_used_vas_value', 'business_type',\n",
       "       'avg_wallet_bonus', 'avg_active_ads', 'avg_new_ads',\n",
       "       'avg_email_replies', 'avg_call_replies', 'avg_sms_replies', 'target',\n",
       "       'count'],\n",
       "      dtype='object')"
      ]
     },
     "execution_count": 22,
     "metadata": {},
     "output_type": "execute_result"
    }
   ],
   "source": [
    "data_df.columns"
   ]
  },
  {
   "cell_type": "markdown",
   "metadata": {},
   "source": [
    "### Dropping all unnnecessary column which are not used in building ml or dl model"
   ]
  },
  {
   "cell_type": "code",
   "execution_count": 23,
   "metadata": {},
   "outputs": [
    {
     "data": {
      "text/html": [
       "<div>\n",
       "<style scoped>\n",
       "    .dataframe tbody tr th:only-of-type {\n",
       "        vertical-align: middle;\n",
       "    }\n",
       "\n",
       "    .dataframe tbody tr th {\n",
       "        vertical-align: top;\n",
       "    }\n",
       "\n",
       "    .dataframe thead th {\n",
       "        text-align: right;\n",
       "    }\n",
       "</style>\n",
       "<table border=\"1\" class=\"dataframe\">\n",
       "  <thead>\n",
       "    <tr style=\"text-align: right;\">\n",
       "      <th></th>\n",
       "      <th>max_return_days</th>\n",
       "      <th>average_return_days</th>\n",
       "      <th>customer_since_months</th>\n",
       "      <th>total_revenue</th>\n",
       "      <th>average_revenue</th>\n",
       "      <th>avg_vas_count</th>\n",
       "      <th>avg_used_vas_value</th>\n",
       "      <th>avg_wallet_bonus</th>\n",
       "      <th>avg_active_ads</th>\n",
       "      <th>avg_new_ads</th>\n",
       "      <th>avg_email_replies</th>\n",
       "      <th>avg_call_replies</th>\n",
       "      <th>avg_sms_replies</th>\n",
       "      <th>target</th>\n",
       "    </tr>\n",
       "  </thead>\n",
       "  <tbody>\n",
       "    <tr>\n",
       "      <th>0</th>\n",
       "      <td>8</td>\n",
       "      <td>1.500000</td>\n",
       "      <td>14</td>\n",
       "      <td>0.0</td>\n",
       "      <td>0.0</td>\n",
       "      <td>3.666667</td>\n",
       "      <td>66.666667</td>\n",
       "      <td>300.0</td>\n",
       "      <td>79.333333</td>\n",
       "      <td>15.250000</td>\n",
       "      <td>32.416667</td>\n",
       "      <td>27.916667</td>\n",
       "      <td>0.250000</td>\n",
       "      <td>0</td>\n",
       "    </tr>\n",
       "    <tr>\n",
       "      <th>1</th>\n",
       "      <td>37</td>\n",
       "      <td>8.200000</td>\n",
       "      <td>10</td>\n",
       "      <td>0.0</td>\n",
       "      <td>0.0</td>\n",
       "      <td>4.900000</td>\n",
       "      <td>114.000000</td>\n",
       "      <td>0.0</td>\n",
       "      <td>232.100000</td>\n",
       "      <td>18.300000</td>\n",
       "      <td>16.200000</td>\n",
       "      <td>13.800000</td>\n",
       "      <td>0.000000</td>\n",
       "      <td>0</td>\n",
       "    </tr>\n",
       "    <tr>\n",
       "      <th>2</th>\n",
       "      <td>9</td>\n",
       "      <td>1.533333</td>\n",
       "      <td>15</td>\n",
       "      <td>0.0</td>\n",
       "      <td>0.0</td>\n",
       "      <td>5.333333</td>\n",
       "      <td>106.666667</td>\n",
       "      <td>150.0</td>\n",
       "      <td>55.083333</td>\n",
       "      <td>3.750000</td>\n",
       "      <td>20.250000</td>\n",
       "      <td>24.500000</td>\n",
       "      <td>0.000000</td>\n",
       "      <td>0</td>\n",
       "    </tr>\n",
       "    <tr>\n",
       "      <th>3</th>\n",
       "      <td>1</td>\n",
       "      <td>1.000000</td>\n",
       "      <td>14</td>\n",
       "      <td>0.0</td>\n",
       "      <td>0.0</td>\n",
       "      <td>6.307692</td>\n",
       "      <td>176.153846</td>\n",
       "      <td>1481.0</td>\n",
       "      <td>409.538462</td>\n",
       "      <td>80.769231</td>\n",
       "      <td>87.461538</td>\n",
       "      <td>57.615385</td>\n",
       "      <td>0.000000</td>\n",
       "      <td>1</td>\n",
       "    </tr>\n",
       "    <tr>\n",
       "      <th>4</th>\n",
       "      <td>1</td>\n",
       "      <td>1.000000</td>\n",
       "      <td>18</td>\n",
       "      <td>0.0</td>\n",
       "      <td>0.0</td>\n",
       "      <td>5.846154</td>\n",
       "      <td>109.230769</td>\n",
       "      <td>41.5</td>\n",
       "      <td>48.230769</td>\n",
       "      <td>1.692308</td>\n",
       "      <td>17.461538</td>\n",
       "      <td>25.769231</td>\n",
       "      <td>0.230769</td>\n",
       "      <td>0</td>\n",
       "    </tr>\n",
       "  </tbody>\n",
       "</table>\n",
       "</div>"
      ],
      "text/plain": [
       "   max_return_days  average_return_days  customer_since_months  total_revenue  \\\n",
       "0                8             1.500000                     14            0.0   \n",
       "1               37             8.200000                     10            0.0   \n",
       "2                9             1.533333                     15            0.0   \n",
       "3                1             1.000000                     14            0.0   \n",
       "4                1             1.000000                     18            0.0   \n",
       "\n",
       "   average_revenue  avg_vas_count  avg_used_vas_value  avg_wallet_bonus  \\\n",
       "0              0.0       3.666667           66.666667             300.0   \n",
       "1              0.0       4.900000          114.000000               0.0   \n",
       "2              0.0       5.333333          106.666667             150.0   \n",
       "3              0.0       6.307692          176.153846            1481.0   \n",
       "4              0.0       5.846154          109.230769              41.5   \n",
       "\n",
       "   avg_active_ads  avg_new_ads  avg_email_replies  avg_call_replies  \\\n",
       "0       79.333333    15.250000          32.416667         27.916667   \n",
       "1      232.100000    18.300000          16.200000         13.800000   \n",
       "2       55.083333     3.750000          20.250000         24.500000   \n",
       "3      409.538462    80.769231          87.461538         57.615385   \n",
       "4       48.230769     1.692308          17.461538         25.769231   \n",
       "\n",
       "   avg_sms_replies  target  \n",
       "0         0.250000       0  \n",
       "1         0.000000       0  \n",
       "2         0.000000       0  \n",
       "3         0.000000       1  \n",
       "4         0.230769       0  "
      ]
     },
     "execution_count": 23,
     "metadata": {},
     "output_type": "execute_result"
    }
   ],
   "source": [
    "my_new_df=data_df.drop(['user_id','account_id','business_type','count'],1)\n",
    "my_new_df.head()"
   ]
  },
  {
   "cell_type": "markdown",
   "metadata": {},
   "source": [
    "### Data Normalization"
   ]
  },
  {
   "cell_type": "code",
   "execution_count": 24,
   "metadata": {},
   "outputs": [
    {
     "name": "stderr",
     "output_type": "stream",
     "text": [
      "C:\\Users\\hp\\Anaconda3\\lib\\site-packages\\sklearn\\preprocessing\\data.py:334: DataConversionWarning: Data with input dtype int64, float64 were all converted to float64 by MinMaxScaler.\n",
      "  return self.partial_fit(X, y)\n"
     ]
    },
    {
     "data": {
      "text/html": [
       "<div>\n",
       "<style scoped>\n",
       "    .dataframe tbody tr th:only-of-type {\n",
       "        vertical-align: middle;\n",
       "    }\n",
       "\n",
       "    .dataframe tbody tr th {\n",
       "        vertical-align: top;\n",
       "    }\n",
       "\n",
       "    .dataframe thead th {\n",
       "        text-align: right;\n",
       "    }\n",
       "</style>\n",
       "<table border=\"1\" class=\"dataframe\">\n",
       "  <thead>\n",
       "    <tr style=\"text-align: right;\">\n",
       "      <th></th>\n",
       "      <th>0</th>\n",
       "      <th>1</th>\n",
       "      <th>2</th>\n",
       "      <th>3</th>\n",
       "      <th>4</th>\n",
       "      <th>5</th>\n",
       "      <th>6</th>\n",
       "      <th>7</th>\n",
       "      <th>8</th>\n",
       "      <th>9</th>\n",
       "      <th>10</th>\n",
       "      <th>11</th>\n",
       "      <th>12</th>\n",
       "      <th>13</th>\n",
       "    </tr>\n",
       "  </thead>\n",
       "  <tbody>\n",
       "    <tr>\n",
       "      <th>0</th>\n",
       "      <td>0.019830</td>\n",
       "      <td>0.002829</td>\n",
       "      <td>0.565217</td>\n",
       "      <td>0.0</td>\n",
       "      <td>0.0</td>\n",
       "      <td>0.023417</td>\n",
       "      <td>0.019856</td>\n",
       "      <td>0.019223</td>\n",
       "      <td>0.008638</td>\n",
       "      <td>0.005852</td>\n",
       "      <td>0.018886</td>\n",
       "      <td>0.016014</td>\n",
       "      <td>0.017081</td>\n",
       "      <td>0.0</td>\n",
       "    </tr>\n",
       "    <tr>\n",
       "      <th>1</th>\n",
       "      <td>0.101983</td>\n",
       "      <td>0.021782</td>\n",
       "      <td>0.391304</td>\n",
       "      <td>0.0</td>\n",
       "      <td>0.0</td>\n",
       "      <td>0.031293</td>\n",
       "      <td>0.033954</td>\n",
       "      <td>0.000000</td>\n",
       "      <td>0.025273</td>\n",
       "      <td>0.007022</td>\n",
       "      <td>0.009438</td>\n",
       "      <td>0.007916</td>\n",
       "      <td>0.000000</td>\n",
       "      <td>0.0</td>\n",
       "    </tr>\n",
       "    <tr>\n",
       "      <th>2</th>\n",
       "      <td>0.022663</td>\n",
       "      <td>0.002923</td>\n",
       "      <td>0.608696</td>\n",
       "      <td>0.0</td>\n",
       "      <td>0.0</td>\n",
       "      <td>0.034061</td>\n",
       "      <td>0.031770</td>\n",
       "      <td>0.009611</td>\n",
       "      <td>0.005998</td>\n",
       "      <td>0.001439</td>\n",
       "      <td>0.011798</td>\n",
       "      <td>0.014054</td>\n",
       "      <td>0.000000</td>\n",
       "      <td>0.0</td>\n",
       "    </tr>\n",
       "    <tr>\n",
       "      <th>3</th>\n",
       "      <td>0.000000</td>\n",
       "      <td>0.001414</td>\n",
       "      <td>0.565217</td>\n",
       "      <td>0.0</td>\n",
       "      <td>0.0</td>\n",
       "      <td>0.040283</td>\n",
       "      <td>0.052466</td>\n",
       "      <td>0.094896</td>\n",
       "      <td>0.044593</td>\n",
       "      <td>0.030994</td>\n",
       "      <td>0.050956</td>\n",
       "      <td>0.033050</td>\n",
       "      <td>0.000000</td>\n",
       "      <td>1.0</td>\n",
       "    </tr>\n",
       "    <tr>\n",
       "      <th>4</th>\n",
       "      <td>0.000000</td>\n",
       "      <td>0.001414</td>\n",
       "      <td>0.739130</td>\n",
       "      <td>0.0</td>\n",
       "      <td>0.0</td>\n",
       "      <td>0.037336</td>\n",
       "      <td>0.032533</td>\n",
       "      <td>0.002659</td>\n",
       "      <td>0.005252</td>\n",
       "      <td>0.000649</td>\n",
       "      <td>0.010173</td>\n",
       "      <td>0.014782</td>\n",
       "      <td>0.015767</td>\n",
       "      <td>0.0</td>\n",
       "    </tr>\n",
       "  </tbody>\n",
       "</table>\n",
       "</div>"
      ],
      "text/plain": [
       "         0         1         2    3    4         5         6         7   \\\n",
       "0  0.019830  0.002829  0.565217  0.0  0.0  0.023417  0.019856  0.019223   \n",
       "1  0.101983  0.021782  0.391304  0.0  0.0  0.031293  0.033954  0.000000   \n",
       "2  0.022663  0.002923  0.608696  0.0  0.0  0.034061  0.031770  0.009611   \n",
       "3  0.000000  0.001414  0.565217  0.0  0.0  0.040283  0.052466  0.094896   \n",
       "4  0.000000  0.001414  0.739130  0.0  0.0  0.037336  0.032533  0.002659   \n",
       "\n",
       "         8         9         10        11        12   13  \n",
       "0  0.008638  0.005852  0.018886  0.016014  0.017081  0.0  \n",
       "1  0.025273  0.007022  0.009438  0.007916  0.000000  0.0  \n",
       "2  0.005998  0.001439  0.011798  0.014054  0.000000  0.0  \n",
       "3  0.044593  0.030994  0.050956  0.033050  0.000000  1.0  \n",
       "4  0.005252  0.000649  0.010173  0.014782  0.015767  0.0  "
      ]
     },
     "execution_count": 24,
     "metadata": {},
     "output_type": "execute_result"
    }
   ],
   "source": [
    "X_norm = MinMaxScaler()\n",
    "X_data=X_norm.fit_transform(my_new_df)\n",
    "\n",
    "data_norm=pd.DataFrame(X_data)\n",
    "data_norm.head()"
   ]
  },
  {
   "cell_type": "markdown",
   "metadata": {},
   "source": [
    "### Data Visualization"
   ]
  },
  {
   "cell_type": "code",
   "execution_count": 25,
   "metadata": {},
   "outputs": [
    {
     "data": {
      "text/plain": [
       "<matplotlib.axes._subplots.AxesSubplot at 0x29cfc4c47f0>"
      ]
     },
     "execution_count": 25,
     "metadata": {},
     "output_type": "execute_result"
    },
    {
     "data": {
      "image/png": "[encoded data removed]",
      "text/plain": [
       "<Figure size 432x288 with 1 Axes>"
      ]
     },
     "metadata": {
      "needs_background": "light"
     },
     "output_type": "display_data"
    }
   ],
   "source": [
    "sns.countplot(data_df['target'])"
   ]
  },
  {
   "cell_type": "markdown",
   "metadata": {},
   "source": [
    "### Histogram chart for each columns"
   ]
  },
  {
   "cell_type": "code",
   "execution_count": 26,
   "metadata": {},
   "outputs": [
    {
     "data": {
      "image/png": "[encoded data removed]",
      "text/plain": [
       "<Figure size 720x360 with 1 Axes>"
      ]
     },
     "metadata": {
      "needs_background": "light"
     },
     "output_type": "display_data"
    },
    {
     "data": {
      "image/png": "[encoded data removed]",
      "text/plain": [
       "<Figure size 720x360 with 1 Axes>"
      ]
     },
     "metadata": {
      "needs_background": "light"
     },
     "output_type": "display_data"
    },
    {
     "data": {
      "image/png": "[encoded data removed]",
      "text/plain": [
       "<Figure size 720x360 with 1 Axes>"
      ]
     },
     "metadata": {
      "needs_background": "light"
     },
     "output_type": "display_data"
    },
    {
     "data": {
      "image/png": "[encoded data removed]",
      "text/plain": [
       "<Figure size 720x360 with 1 Axes>"
      ]
     },
     "metadata": {
      "needs_background": "light"
     },
     "output_type": "display_data"
    },
    {
     "data": {
      "image/png": "[encoded data removed]",
      "text/plain": [
       "<Figure size 720x360 with 1 Axes>"
      ]
     },
     "metadata": {
      "needs_background": "light"
     },
     "output_type": "display_data"
    },
    {
     "data": {
      "image/png": "[encoded data removed]",
      "text/plain": [
       "<Figure size 720x360 with 1 Axes>"
      ]
     },
     "metadata": {
      "needs_background": "light"
     },
     "output_type": "display_data"
    },
    {
     "data": {
      "image/png": "[encoded data removed]",
      "text/plain": [
       "<Figure size 720x360 with 1 Axes>"
      ]
     },
     "metadata": {
      "needs_background": "light"
     },
     "output_type": "display_data"
    },
    {
     "data": {
      "image/png": "[encoded data removed]",
      "text/plain": [
       "<Figure size 720x360 with 1 Axes>"
      ]
     },
     "metadata": {
      "needs_background": "light"
     },
     "output_type": "display_data"
    },
    {
     "data": {
      "image/png": "[encoded data removed]",
      "text/plain": [
       "<Figure size 720x360 with 1 Axes>"
      ]
     },
     "metadata": {
      "needs_background": "light"
     },
     "output_type": "display_data"
    },
    {
     "data": {
      "image/png": "[encoded data removed]",
      "text/plain": [
       "<Figure size 720x360 with 1 Axes>"
      ]
     },
     "metadata": {
      "needs_background": "light"
     },
     "output_type": "display_data"
    },
    {
     "data": {
      "image/png": "[encoded data removed]",
      "text/plain": [
       "<Figure size 720x360 with 1 Axes>"
      ]
     },
     "metadata": {
      "needs_background": "light"
     },
     "output_type": "display_data"
    },
    {
     "data": {
      "image/png": "[encoded data removed]",
      "text/plain": [
       "<Figure size 720x360 with 1 Axes>"
      ]
     },
     "metadata": {
      "needs_background": "light"
     },
     "output_type": "display_data"
    },
    {
     "data": {
      "image/png": "[encoded data removed]",
      "text/plain": [
       "<Figure size 720x360 with 1 Axes>"
      ]
     },
     "metadata": {
      "needs_background": "light"
     },
     "output_type": "display_data"
    },
    {
     "data": {
      "image/png": "[encoded data removed]",
      "text/plain": [
       "<Figure size 720x360 with 1 Axes>"
      ]
     },
     "metadata": {
      "needs_background": "light"
     },
     "output_type": "display_data"
    }
   ],
   "source": [
    "for i in data_norm.columns:\n",
    "   \n",
    "    plt.figure(figsize=[10,5])\n",
    "    plt.hist(data_norm[i])\n",
    "    plt.xlabel(i)\n",
    "    plt.ylabel('Range')\n"
   ]
  },
  {
   "cell_type": "markdown",
   "metadata": {},
   "source": [
    "Find out outlier exists in the dataset"
   ]
  },
  {
   "cell_type": "code",
   "execution_count": 27,
   "metadata": {},
   "outputs": [
    {
     "data": {
      "text/plain": [
       "<matplotlib.axes._subplots.AxesSubplot at 0x29cfcb1fef0>"
      ]
     },
     "execution_count": 27,
     "metadata": {},
     "output_type": "execute_result"
    },
    {
     "data": {
      "image/png": "[encoded data removed]",
      "text/plain": [
       "<Figure size 432x288 with 1 Axes>"
      ]
     },
     "metadata": {
      "needs_background": "light"
     },
     "output_type": "display_data"
    }
   ],
   "source": [
    "sns.boxplot(data_norm)\n"
   ]
  },
  {
   "cell_type": "markdown",
   "metadata": {},
   "source": [
    "### Correlation of data"
   ]
  },
  {
   "cell_type": "markdown",
   "metadata": {},
   "source": [
    " * negative correlation\n",
    " * positive correlation \n",
    " * no correlation \n"
   ]
  },
  {
   "cell_type": "code",
   "execution_count": 28,
   "metadata": {},
   "outputs": [
    {
     "data": {
      "text/html": [
       "<div>\n",
       "<style scoped>\n",
       "    .dataframe tbody tr th:only-of-type {\n",
       "        vertical-align: middle;\n",
       "    }\n",
       "\n",
       "    .dataframe tbody tr th {\n",
       "        vertical-align: top;\n",
       "    }\n",
       "\n",
       "    .dataframe thead th {\n",
       "        text-align: right;\n",
       "    }\n",
       "</style>\n",
       "<table border=\"1\" class=\"dataframe\">\n",
       "  <thead>\n",
       "    <tr style=\"text-align: right;\">\n",
       "      <th></th>\n",
       "      <th>0</th>\n",
       "      <th>1</th>\n",
       "      <th>2</th>\n",
       "      <th>3</th>\n",
       "      <th>4</th>\n",
       "      <th>5</th>\n",
       "      <th>6</th>\n",
       "      <th>7</th>\n",
       "      <th>8</th>\n",
       "      <th>9</th>\n",
       "      <th>10</th>\n",
       "      <th>11</th>\n",
       "      <th>12</th>\n",
       "      <th>13</th>\n",
       "    </tr>\n",
       "  </thead>\n",
       "  <tbody>\n",
       "    <tr>\n",
       "      <th>0</th>\n",
       "      <td>1.000000</td>\n",
       "      <td>0.749094</td>\n",
       "      <td>-0.186734</td>\n",
       "      <td>-0.001811</td>\n",
       "      <td>0.013263</td>\n",
       "      <td>-0.112033</td>\n",
       "      <td>-0.118764</td>\n",
       "      <td>-0.131315</td>\n",
       "      <td>-0.042675</td>\n",
       "      <td>-0.008815</td>\n",
       "      <td>-0.075633</td>\n",
       "      <td>-0.079001</td>\n",
       "      <td>-0.050154</td>\n",
       "      <td>0.275005</td>\n",
       "    </tr>\n",
       "    <tr>\n",
       "      <th>1</th>\n",
       "      <td>0.749094</td>\n",
       "      <td>1.000000</td>\n",
       "      <td>-0.256605</td>\n",
       "      <td>-0.014424</td>\n",
       "      <td>-0.006545</td>\n",
       "      <td>-0.108025</td>\n",
       "      <td>-0.113959</td>\n",
       "      <td>-0.103527</td>\n",
       "      <td>-0.046713</td>\n",
       "      <td>-0.016387</td>\n",
       "      <td>-0.070537</td>\n",
       "      <td>-0.070755</td>\n",
       "      <td>-0.038732</td>\n",
       "      <td>0.165715</td>\n",
       "    </tr>\n",
       "    <tr>\n",
       "      <th>2</th>\n",
       "      <td>-0.186734</td>\n",
       "      <td>-0.256605</td>\n",
       "      <td>1.000000</td>\n",
       "      <td>0.090540</td>\n",
       "      <td>0.063951</td>\n",
       "      <td>0.321568</td>\n",
       "      <td>0.350931</td>\n",
       "      <td>0.352093</td>\n",
       "      <td>0.138861</td>\n",
       "      <td>0.019360</td>\n",
       "      <td>0.206298</td>\n",
       "      <td>0.206565</td>\n",
       "      <td>0.123171</td>\n",
       "      <td>-0.234972</td>\n",
       "    </tr>\n",
       "    <tr>\n",
       "      <th>3</th>\n",
       "      <td>-0.001811</td>\n",
       "      <td>-0.014424</td>\n",
       "      <td>0.090540</td>\n",
       "      <td>1.000000</td>\n",
       "      <td>0.950358</td>\n",
       "      <td>0.608588</td>\n",
       "      <td>0.642122</td>\n",
       "      <td>0.075943</td>\n",
       "      <td>0.341777</td>\n",
       "      <td>0.130780</td>\n",
       "      <td>0.214070</td>\n",
       "      <td>0.214298</td>\n",
       "      <td>0.213396</td>\n",
       "      <td>-0.032571</td>\n",
       "    </tr>\n",
       "    <tr>\n",
       "      <th>4</th>\n",
       "      <td>0.013263</td>\n",
       "      <td>-0.006545</td>\n",
       "      <td>0.063951</td>\n",
       "      <td>0.950358</td>\n",
       "      <td>1.000000</td>\n",
       "      <td>0.586251</td>\n",
       "      <td>0.612556</td>\n",
       "      <td>0.070069</td>\n",
       "      <td>0.354470</td>\n",
       "      <td>0.132430</td>\n",
       "      <td>0.209710</td>\n",
       "      <td>0.209277</td>\n",
       "      <td>0.214935</td>\n",
       "      <td>-0.025354</td>\n",
       "    </tr>\n",
       "    <tr>\n",
       "      <th>5</th>\n",
       "      <td>-0.112033</td>\n",
       "      <td>-0.108025</td>\n",
       "      <td>0.321568</td>\n",
       "      <td>0.608588</td>\n",
       "      <td>0.586251</td>\n",
       "      <td>1.000000</td>\n",
       "      <td>0.962312</td>\n",
       "      <td>0.131268</td>\n",
       "      <td>0.413862</td>\n",
       "      <td>0.191781</td>\n",
       "      <td>0.360756</td>\n",
       "      <td>0.342740</td>\n",
       "      <td>0.240634</td>\n",
       "      <td>-0.117167</td>\n",
       "    </tr>\n",
       "    <tr>\n",
       "      <th>6</th>\n",
       "      <td>-0.118764</td>\n",
       "      <td>-0.113959</td>\n",
       "      <td>0.350931</td>\n",
       "      <td>0.642122</td>\n",
       "      <td>0.612556</td>\n",
       "      <td>0.962312</td>\n",
       "      <td>1.000000</td>\n",
       "      <td>0.156331</td>\n",
       "      <td>0.407619</td>\n",
       "      <td>0.185732</td>\n",
       "      <td>0.363019</td>\n",
       "      <td>0.347185</td>\n",
       "      <td>0.244277</td>\n",
       "      <td>-0.128469</td>\n",
       "    </tr>\n",
       "    <tr>\n",
       "      <th>7</th>\n",
       "      <td>-0.131315</td>\n",
       "      <td>-0.103527</td>\n",
       "      <td>0.352093</td>\n",
       "      <td>0.075943</td>\n",
       "      <td>0.070069</td>\n",
       "      <td>0.131268</td>\n",
       "      <td>0.156331</td>\n",
       "      <td>1.000000</td>\n",
       "      <td>0.256563</td>\n",
       "      <td>0.121428</td>\n",
       "      <td>0.273858</td>\n",
       "      <td>0.284432</td>\n",
       "      <td>0.237789</td>\n",
       "      <td>-0.076814</td>\n",
       "    </tr>\n",
       "    <tr>\n",
       "      <th>8</th>\n",
       "      <td>-0.042675</td>\n",
       "      <td>-0.046713</td>\n",
       "      <td>0.138861</td>\n",
       "      <td>0.341777</td>\n",
       "      <td>0.354470</td>\n",
       "      <td>0.413862</td>\n",
       "      <td>0.407619</td>\n",
       "      <td>0.256563</td>\n",
       "      <td>1.000000</td>\n",
       "      <td>0.650650</td>\n",
       "      <td>0.704178</td>\n",
       "      <td>0.677154</td>\n",
       "      <td>0.433438</td>\n",
       "      <td>-0.021957</td>\n",
       "    </tr>\n",
       "    <tr>\n",
       "      <th>9</th>\n",
       "      <td>-0.008815</td>\n",
       "      <td>-0.016387</td>\n",
       "      <td>0.019360</td>\n",
       "      <td>0.130780</td>\n",
       "      <td>0.132430</td>\n",
       "      <td>0.191781</td>\n",
       "      <td>0.185732</td>\n",
       "      <td>0.121428</td>\n",
       "      <td>0.650650</td>\n",
       "      <td>1.000000</td>\n",
       "      <td>0.413364</td>\n",
       "      <td>0.378593</td>\n",
       "      <td>0.260827</td>\n",
       "      <td>0.014184</td>\n",
       "    </tr>\n",
       "    <tr>\n",
       "      <th>10</th>\n",
       "      <td>-0.075633</td>\n",
       "      <td>-0.070537</td>\n",
       "      <td>0.206298</td>\n",
       "      <td>0.214070</td>\n",
       "      <td>0.209710</td>\n",
       "      <td>0.360756</td>\n",
       "      <td>0.363019</td>\n",
       "      <td>0.273858</td>\n",
       "      <td>0.704178</td>\n",
       "      <td>0.413364</td>\n",
       "      <td>1.000000</td>\n",
       "      <td>0.955311</td>\n",
       "      <td>0.716743</td>\n",
       "      <td>-0.070729</td>\n",
       "    </tr>\n",
       "    <tr>\n",
       "      <th>11</th>\n",
       "      <td>-0.079001</td>\n",
       "      <td>-0.070755</td>\n",
       "      <td>0.206565</td>\n",
       "      <td>0.214298</td>\n",
       "      <td>0.209277</td>\n",
       "      <td>0.342740</td>\n",
       "      <td>0.347185</td>\n",
       "      <td>0.284432</td>\n",
       "      <td>0.677154</td>\n",
       "      <td>0.378593</td>\n",
       "      <td>0.955311</td>\n",
       "      <td>1.000000</td>\n",
       "      <td>0.799194</td>\n",
       "      <td>-0.075268</td>\n",
       "    </tr>\n",
       "    <tr>\n",
       "      <th>12</th>\n",
       "      <td>-0.050154</td>\n",
       "      <td>-0.038732</td>\n",
       "      <td>0.123171</td>\n",
       "      <td>0.213396</td>\n",
       "      <td>0.214935</td>\n",
       "      <td>0.240634</td>\n",
       "      <td>0.244277</td>\n",
       "      <td>0.237789</td>\n",
       "      <td>0.433438</td>\n",
       "      <td>0.260827</td>\n",
       "      <td>0.716743</td>\n",
       "      <td>0.799194</td>\n",
       "      <td>1.000000</td>\n",
       "      <td>-0.062312</td>\n",
       "    </tr>\n",
       "    <tr>\n",
       "      <th>13</th>\n",
       "      <td>0.275005</td>\n",
       "      <td>0.165715</td>\n",
       "      <td>-0.234972</td>\n",
       "      <td>-0.032571</td>\n",
       "      <td>-0.025354</td>\n",
       "      <td>-0.117167</td>\n",
       "      <td>-0.128469</td>\n",
       "      <td>-0.076814</td>\n",
       "      <td>-0.021957</td>\n",
       "      <td>0.014184</td>\n",
       "      <td>-0.070729</td>\n",
       "      <td>-0.075268</td>\n",
       "      <td>-0.062312</td>\n",
       "      <td>1.000000</td>\n",
       "    </tr>\n",
       "  </tbody>\n",
       "</table>\n",
       "</div>"
      ],
      "text/plain": [
       "          0         1         2         3         4         5         6   \\\n",
       "0   1.000000  0.749094 -0.186734 -0.001811  0.013263 -0.112033 -0.118764   \n",
       "1   0.749094  1.000000 -0.256605 -0.014424 -0.006545 -0.108025 -0.113959   \n",
       "2  -0.186734 -0.256605  1.000000  0.090540  0.063951  0.321568  0.350931   \n",
       "3  -0.001811 -0.014424  0.090540  1.000000  0.950358  0.608588  0.642122   \n",
       "4   0.013263 -0.006545  0.063951  0.950358  1.000000  0.586251  0.612556   \n",
       "5  -0.112033 -0.108025  0.321568  0.608588  0.586251  1.000000  0.962312   \n",
       "6  -0.118764 -0.113959  0.350931  0.642122  0.612556  0.962312  1.000000   \n",
       "7  -0.131315 -0.103527  0.352093  0.075943  0.070069  0.131268  0.156331   \n",
       "8  -0.042675 -0.046713  0.138861  0.341777  0.354470  0.413862  0.407619   \n",
       "9  -0.008815 -0.016387  0.019360  0.130780  0.132430  0.191781  0.185732   \n",
       "10 -0.075633 -0.070537  0.206298  0.214070  0.209710  0.360756  0.363019   \n",
       "11 -0.079001 -0.070755  0.206565  0.214298  0.209277  0.342740  0.347185   \n",
       "12 -0.050154 -0.038732  0.123171  0.213396  0.214935  0.240634  0.244277   \n",
       "13  0.275005  0.165715 -0.234972 -0.032571 -0.025354 -0.117167 -0.128469   \n",
       "\n",
       "          7         8         9         10        11        12        13  \n",
       "0  -0.131315 -0.042675 -0.008815 -0.075633 -0.079001 -0.050154  0.275005  \n",
       "1  -0.103527 -0.046713 -0.016387 -0.070537 -0.070755 -0.038732  0.165715  \n",
       "2   0.352093  0.138861  0.019360  0.206298  0.206565  0.123171 -0.234972  \n",
       "3   0.075943  0.341777  0.130780  0.214070  0.214298  0.213396 -0.032571  \n",
       "4   0.070069  0.354470  0.132430  0.209710  0.209277  0.214935 -0.025354  \n",
       "5   0.131268  0.413862  0.191781  0.360756  0.342740  0.240634 -0.117167  \n",
       "6   0.156331  0.407619  0.185732  0.363019  0.347185  0.244277 -0.128469  \n",
       "7   1.000000  0.256563  0.121428  0.273858  0.284432  0.237789 -0.076814  \n",
       "8   0.256563  1.000000  0.650650  0.704178  0.677154  0.433438 -0.021957  \n",
       "9   0.121428  0.650650  1.000000  0.413364  0.378593  0.260827  0.014184  \n",
       "10  0.273858  0.704178  0.413364  1.000000  0.955311  0.716743 -0.070729  \n",
       "11  0.284432  0.677154  0.378593  0.955311  1.000000  0.799194 -0.075268  \n",
       "12  0.237789  0.433438  0.260827  0.716743  0.799194  1.000000 -0.062312  \n",
       "13 -0.076814 -0.021957  0.014184 -0.070729 -0.075268 -0.062312  1.000000  "
      ]
     },
     "execution_count": 28,
     "metadata": {},
     "output_type": "execute_result"
    }
   ],
   "source": [
    "data_norm.corr()"
   ]
  },
  {
   "cell_type": "markdown",
   "metadata": {},
   "source": [
    "### Correaltion diagram of given data"
   ]
  },
  {
   "cell_type": "code",
   "execution_count": 29,
   "metadata": {},
   "outputs": [
    {
     "data": {
      "text/plain": [
       "<matplotlib.axes._subplots.AxesSubplot at 0x29cfdc0bc88>"
      ]
     },
     "execution_count": 29,
     "metadata": {},
     "output_type": "execute_result"
    },
    {
     "data": {
      "image/png": "[encoded data removed]",
      "text/plain": [
       "<Figure size 1440x720 with 2 Axes>"
      ]
     },
     "metadata": {
      "needs_background": "light"
     },
     "output_type": "display_data"
    }
   ],
   "source": [
    "plt.figure(figsize=[20,10])\n",
    "\n",
    "sns.heatmap(data_norm.corr(),annot=True)# annot = true (print correation value)\n"
   ]
  },
  {
   "cell_type": "markdown",
   "metadata": {},
   "source": [
    "### X and Y data for training  the  model "
   ]
  },
  {
   "cell_type": "code",
   "execution_count": 30,
   "metadata": {},
   "outputs": [],
   "source": [
    "X=data_norm.drop(13,1)# X contain all value except target\n",
    "y=data_norm[13]# y contain only target column"
   ]
  },
  {
   "cell_type": "markdown",
   "metadata": {},
   "source": [
    "### Splitting of training and testing"
   ]
  },
  {
   "cell_type": "code",
   "execution_count": 31,
   "metadata": {},
   "outputs": [],
   "source": [
    "from sklearn.model_selection import train_test_split\n",
    "X_train, X_test, y_train, y_test = train_test_split(X, y, test_size=0.2,random_state=10)\n"
   ]
  },
  {
   "cell_type": "markdown",
   "metadata": {},
   "source": [
    "### Building ml model to fit the data"
   ]
  },
  {
   "cell_type": "markdown",
   "metadata": {},
   "source": [
    "### Training our model using Other Classifier\n",
    "* Fitting Machine learning algo and compare there training and testing score\n",
    "* To check Data underfitting or Overfitting the model by comparing there score.\n",
    "* In underfitting condition- model accuracy is very low.\n",
    "* In Overfitting condtion- training accuracy is high but testing accuracy is exponentially low as compare to training.\n",
    "\n",
    "### Chose the best algo suited for our model\n",
    "* Find Accuracy score , confusion matrix, classsification report\n"
   ]
  },
  {
   "cell_type": "code",
   "execution_count": 32,
   "metadata": {},
   "outputs": [],
   "source": [
    "lr = LogisticRegression()\n",
    "rfc =RandomForestClassifier(n_estimators=10,max_depth=10)\n",
    "lsvc = LinearSVC()\n",
    "gbc = GradientBoostingClassifier()\n",
    "gnb = GaussianNB()\n",
    "knn = KNeighborsClassifier(n_neighbors=6)\n"
   ]
  },
  {
   "cell_type": "code",
   "execution_count": 33,
   "metadata": {},
   "outputs": [],
   "source": [
    "ml_model = []\n",
    "ml_model.append((\"LogisticRegression\",lr))\n",
    "ml_model.append(('RandomForestClassifier',rfc))\n",
    "ml_model.append(('GradientBoostingClassifier',gbc))\n",
    "ml_model.append(('LinearSVC',lsvc))\n",
    "ml_model.append(('GaussianNB',gnb))\n",
    "ml_model.append(('KNN',knn))\n"
   ]
  },
  {
   "cell_type": "code",
   "execution_count": 34,
   "metadata": {},
   "outputs": [
    {
     "name": "stderr",
     "output_type": "stream",
     "text": [
      "C:\\Users\\hp\\Anaconda3\\lib\\site-packages\\sklearn\\linear_model\\logistic.py:433: FutureWarning: Default solver will be changed to 'lbfgs' in 0.22. Specify a solver to silence this warning.\n",
      "  FutureWarning)\n"
     ]
    },
    {
     "name": "stdout",
     "output_type": "stream",
     "text": [
      "LogisticRegression = (training score): 0.902128 (testing score:) 0.878685\n",
      "\n",
      "\n",
      "RandomForestClassifier = (training score): 0.943830 (testing score:) 0.887755\n",
      "\n",
      "\n",
      "GradientBoostingClassifier = (training score): 0.930496 (testing score:) 0.887755\n",
      "\n",
      "\n",
      "LinearSVC = (training score): 0.903262 (testing score:) 0.880952\n",
      "\n",
      "\n",
      "GaussianNB = (training score): 0.387518 (testing score:) 0.395692\n",
      "\n",
      "\n",
      "KNN = (training score): 0.918014 (testing score:) 0.891156\n",
      "\n",
      "\n"
     ]
    }
   ],
   "source": [
    "for name, algo in ml_model:\n",
    "    algo.fit(X_train,y_train)\n",
    "    train_score=algo.score(X_train,y_train)\n",
    "    test_score = algo.score(X_test,y_test)\n",
    "    msg = \"%s = (training score): %f (testing score:) %f\"%(name,train_score,test_score)\n",
    "    print(msg)\n",
    "    print('\\n')\n"
   ]
  },
  {
   "cell_type": "markdown",
   "metadata": {},
   "source": [
    "## KNN gave accurate accuracy  (i.e =89% approx ) neither underfitting nor overfitting the data\n"
   ]
  },
  {
   "cell_type": "code",
   "execution_count": 35,
   "metadata": {},
   "outputs": [],
   "source": [
    "# Prediction\n",
    "from sklearn import metrics\n",
    "knn.fit(X_train,y_train)\n",
    "pred = knn.predict(X_test)\n"
   ]
  },
  {
   "cell_type": "code",
   "execution_count": 36,
   "metadata": {},
   "outputs": [
    {
     "name": "stdout",
     "output_type": "stream",
     "text": [
      "KNN  Classification_report:               precision    recall  f1-score   support\n",
      "\n",
      "         0.0       0.90      0.98      0.94       774\n",
      "         1.0       0.65      0.24      0.35       108\n",
      "\n",
      "   micro avg       0.89      0.89      0.89       882\n",
      "   macro avg       0.78      0.61      0.65       882\n",
      "weighted avg       0.87      0.89      0.87       882\n",
      "\n",
      "====================================================================================\n",
      "\n",
      "KNN Confusion Matrix: [[760  14]\n",
      " [ 82  26]]\n",
      "====================================================================================\n",
      "\n",
      "Accuracy 0.891156462585034\n"
     ]
    }
   ],
   "source": [
    "print(\"KNN  Classification_report:\",metrics.classification_report(y_test,pred))\n",
    "print(\"====================================================================================\\n\")\n",
    "print(\"KNN Confusion Matrix:\",metrics.confusion_matrix(y_test, pred))\n",
    "print(\"====================================================================================\\n\")\n",
    "print(\"Accuracy\",metrics.accuracy_score(y_test,pred))\n"
   ]
  },
  {
   "cell_type": "markdown",
   "metadata": {},
   "source": [
    "## Deep Neural Network using keras or tensorflow"
   ]
  },
  {
   "cell_type": "markdown",
   "metadata": {},
   "source": [
    "![](https://groupfuturista.com/blog/wp-content/uploads/2019/03/Artificial-Neural-Networks-Man-vs-Machine.jpeg)\n"
   ]
  },
  {
   "cell_type": "markdown",
   "metadata": {},
   "source": [
    "### ANN define by keras using Sequential() method adding no of layers in it\n",
    " * Dense layer - define by dnn ,using activation function exponential linear unit (elu) and softmax with shape define columns features=10.\n",
    "    * Exponential Linear Unit.\n",
    " \n",
    "         * It follows: f(x) =  alpha * (exp(x) - 1.) for x < 0, f(x) = x for x >= 0.\n",
    " \n",
    "         * Input shape\n",
    "    * Softmax is an activation function. Other activation functions include RELU and Sigmoid. It is frequently used in classifications. Softmax output is large if the score (input called logit) is large. Its output is small if the score is small.\n"
   ]
  },
  {
   "cell_type": "code",
   "execution_count": 37,
   "metadata": {},
   "outputs": [
    {
     "name": "stdout",
     "output_type": "stream",
     "text": [
      "WARNING:tensorflow:From C:\\Users\\hp\\Anaconda3\\lib\\site-packages\\tensorflow\\python\\ops\\resource_variable_ops.py:435: colocate_with (from tensorflow.python.framework.ops) is deprecated and will be removed in a future version.\n",
      "Instructions for updating:\n",
      "Colocations handled automatically by placer.\n"
     ]
    }
   ],
   "source": [
    "model = Sequential()\n",
    "model.add(Dense(1000,activation='elu',input_shape = (13,)))\n",
    "model.add(Dense(128,activation='elu'))\n",
    "model.add(Dense(100,activation='elu'))\n",
    "model.add(Dense(100,activation='softmax'))\n"
   ]
  },
  {
   "cell_type": "markdown",
   "metadata": {},
   "source": [
    "#### Summarization of neral net.\n"
   ]
  },
  {
   "cell_type": "code",
   "execution_count": 38,
   "metadata": {},
   "outputs": [
    {
     "name": "stdout",
     "output_type": "stream",
     "text": [
      "Model: \"sequential_1\"\n",
      "_________________________________________________________________\n",
      "Layer (type)                 Output Shape              Param #   \n",
      "=================================================================\n",
      "dense_1 (Dense)              (None, 1000)              14000     \n",
      "_________________________________________________________________\n",
      "dense_2 (Dense)              (None, 128)               128128    \n",
      "_________________________________________________________________\n",
      "dense_3 (Dense)              (None, 100)               12900     \n",
      "_________________________________________________________________\n",
      "dense_4 (Dense)              (None, 100)               10100     \n",
      "=================================================================\n",
      "Total params: 165,128\n",
      "Trainable params: 165,128\n",
      "Non-trainable params: 0\n",
      "_________________________________________________________________\n"
     ]
    }
   ],
   "source": [
    "model.summary()\n"
   ]
  },
  {
   "cell_type": "code",
   "execution_count": 39,
   "metadata": {},
   "outputs": [],
   "source": [
    "model.compile(loss='sparse_categorical_crossentropy',\n",
    "             optimizer='adam',\n",
    "             metrics =['accuracy'])\n"
   ]
  },
  {
   "cell_type": "code",
   "execution_count": 40,
   "metadata": {},
   "outputs": [
    {
     "name": "stdout",
     "output_type": "stream",
     "text": [
      "Train on 3525 samples, validate on 882 samples\n",
      "Epoch 1/10\n",
      "3525/3525 [==============================] - 2s 550us/step - loss: 0.6329 - accuracy: 0.8933 - val_loss: 0.3222 - val_accuracy: 0.8798\n",
      "Epoch 2/10\n",
      "3525/3525 [==============================] - 1s 210us/step - loss: 0.2856 - accuracy: 0.9007 - val_loss: 0.3988 - val_accuracy: 0.8798\n",
      "Epoch 3/10\n",
      "3525/3525 [==============================] - 1s 215us/step - loss: 0.2823 - accuracy: 0.9035 - val_loss: 0.3327 - val_accuracy: 0.8787\n",
      "Epoch 4/10\n",
      "3525/3525 [==============================] - 1s 210us/step - loss: 0.2836 - accuracy: 0.9027 - val_loss: 0.3144 - val_accuracy: 0.8798\n",
      "Epoch 5/10\n",
      "3525/3525 [==============================] - 1s 239us/step - loss: 0.2766 - accuracy: 0.9044 - val_loss: 0.3164 - val_accuracy: 0.8821\n",
      "Epoch 6/10\n",
      "3525/3525 [==============================] - 1s 239us/step - loss: 0.2741 - accuracy: 0.9050 - val_loss: 0.3158 - val_accuracy: 0.8787\n",
      "Epoch 7/10\n",
      "3525/3525 [==============================] - 1s 233us/step - loss: 0.2791 - accuracy: 0.9035 - val_loss: 0.3168 - val_accuracy: 0.8821\n",
      "Epoch 8/10\n",
      "3525/3525 [==============================] - 1s 232us/step - loss: 0.2789 - accuracy: 0.9055 - val_loss: 0.3134 - val_accuracy: 0.8844\n",
      "Epoch 9/10\n",
      "3525/3525 [==============================] - 1s 236us/step - loss: 0.2725 - accuracy: 0.9041 - val_loss: 0.3203 - val_accuracy: 0.8844\n",
      "Epoch 10/10\n",
      "3525/3525 [==============================] - 1s 239us/step - loss: 0.2728 - accuracy: 0.9021 - val_loss: 0.3126 - val_accuracy: 0.8832\n"
     ]
    }
   ],
   "source": [
    "history = model.fit(X_train,y_train,epochs=10,validation_data=(X_test,y_test))\n"
   ]
  },
  {
   "cell_type": "markdown",
   "metadata": {},
   "source": [
    "### Visualize the training loss and training validation accuracy \n",
    " * Accuracy for training dataset \n",
    " * Loss reduce \n"
   ]
  },
  {
   "cell_type": "code",
   "execution_count": 41,
   "metadata": {},
   "outputs": [
    {
     "data": {
      "image/png": "[encoded data removed]",
      "text/plain": [
       "<Figure size 432x288 with 1 Axes>"
      ]
     },
     "metadata": {
      "needs_background": "light"
     },
     "output_type": "display_data"
    }
   ],
   "source": [
    "#Visualize the training loss and te validation loss to see if the model is overfitting\n",
    "plt.plot(history.history['loss'])\n",
    "plt.title(\"Model Loss\")\n",
    "plt.xlabel('Epoch')\n",
    "plt.ylabel('Loss')\n",
    "plt.legend(['Train','Val'],loc='upper right')\n",
    "plt.show()\n"
   ]
  },
  {
   "cell_type": "code",
   "execution_count": 42,
   "metadata": {},
   "outputs": [
    {
     "data": {
      "image/png": "[encoded data removed]",
      "text/plain": [
       "<Figure size 432x288 with 1 Axes>"
      ]
     },
     "metadata": {
      "needs_background": "light"
     },
     "output_type": "display_data"
    }
   ],
   "source": [
    "#Visualize the training accuracy and te validation accuracy to see if the model is overfitting\n",
    "plt.plot(history.history['accuracy'])\n",
    "plt.title(\"Model Accuracy\")\n",
    "plt.xlabel('Epoch')\n",
    "plt.ylabel('Accuracy')\n",
    "plt.legend(['Train','Val'],loc='lower right')\n",
    "plt.show()\n"
   ]
  },
  {
   "cell_type": "code",
   "execution_count": 43,
   "metadata": {},
   "outputs": [
    {
     "data": {
      "image/png": "[encoded data removed]",
      "text/plain": [
       "<Figure size 432x288 with 1 Axes>"
      ]
     },
     "metadata": {
      "needs_background": "light"
     },
     "output_type": "display_data"
    }
   ],
   "source": [
    "pd.DataFrame(history.history).plot()\n",
    "plt.grid(True)\n",
    "plt.gca().set_ylim()\n",
    "plt.show()\n"
   ]
  },
  {
   "cell_type": "markdown",
   "metadata": {},
   "source": [
    "### Evaluate the test data"
   ]
  },
  {
   "cell_type": "code",
   "execution_count": 44,
   "metadata": {},
   "outputs": [
    {
     "name": "stdout",
     "output_type": "stream",
     "text": [
      "882/882 [==============================] - 0s 83us/step\n"
     ]
    }
   ],
   "source": [
    "test_acc =model.evaluate(X_test,y_test)\n"
   ]
  },
  {
   "cell_type": "code",
   "execution_count": 45,
   "metadata": {},
   "outputs": [
    {
     "name": "stdout",
     "output_type": "stream",
     "text": [
      "Loss and Accuracy of testing data = [0.31264991744034953, 0.8832199573516846]\n"
     ]
    }
   ],
   "source": [
    "print(\"Loss and Accuracy of testing data =\",test_acc)\n"
   ]
  },
  {
   "cell_type": "markdown",
   "metadata": {},
   "source": [
    "### Pridiction of data"
   ]
  },
  {
   "cell_type": "code",
   "execution_count": 46,
   "metadata": {},
   "outputs": [],
   "source": [
    "predict = model.predict_classes(X_test)\n"
   ]
  },
  {
   "cell_type": "code",
   "execution_count": 47,
   "metadata": {},
   "outputs": [],
   "source": [
    "test_predition = pd.DataFrame(predict)\n"
   ]
  },
  {
   "cell_type": "markdown",
   "metadata": {},
   "source": [
    "### Confusion Matrix define-:\n",
    " * True Negative\n",
    " * False Positive\n",
    " * False Negative\n",
    " * True Positive\n",
    "         * All diagonal element are correct prediction rest are incorrect \n",
    "         * Sum of all correct prediction(diagonal data) divided by sum of all the data(correct or wrong prediction data)\n"
   ]
  },
  {
   "cell_type": "code",
   "execution_count": 48,
   "metadata": {},
   "outputs": [
    {
     "data": {
      "text/plain": [
       "array([[766,   8],\n",
       "       [ 95,  13]], dtype=int64)"
      ]
     },
     "execution_count": 48,
     "metadata": {},
     "output_type": "execute_result"
    }
   ],
   "source": [
    "from sklearn import metrics\n",
    "metrics.confusion_matrix(y_test,predict)\n"
   ]
  },
  {
   "cell_type": "markdown",
   "metadata": {},
   "source": [
    "#### Define \n",
    " * precision-:precision is the fraction of relevant instances among the retrieved instances\n",
    " * recall:-while recall is the fraction of the total amount of relevant instances that were actually retrieved\n",
    " * f1-score-:F1 is an overall measure of a model’s accuracy that combines precision and recall, in that weird way that addition and multiplication just mix two ingredients to make a separate dish altogether\n"
   ]
  },
  {
   "cell_type": "code",
   "execution_count": 49,
   "metadata": {},
   "outputs": [
    {
     "name": "stdout",
     "output_type": "stream",
     "text": [
      "              precision    recall  f1-score   support\n",
      "\n",
      "         0.0       0.89      0.99      0.94       774\n",
      "         1.0       0.62      0.12      0.20       108\n",
      "\n",
      "   micro avg       0.88      0.88      0.88       882\n",
      "   macro avg       0.75      0.56      0.57       882\n",
      "weighted avg       0.86      0.88      0.85       882\n",
      "\n"
     ]
    }
   ],
   "source": [
    "print(metrics.classification_report(y_test,predict))\n"
   ]
  },
  {
   "cell_type": "markdown",
   "metadata": {},
   "source": [
    "## Deep Learning  using LSTM (model2)\n"
   ]
  },
  {
   "cell_type": "markdown",
   "metadata": {},
   "source": [
    "![](https://colah.github.io/posts/2015-08-Understanding-LSTMs/img/LSTM3-var-GRU.png)\n"
   ]
  },
  {
   "cell_type": "code",
   "execution_count": 50,
   "metadata": {},
   "outputs": [],
   "source": [
    "X_test = np.array(X_test)\n",
    "X_train = np.array(X_train)\n",
    "y_train = np.array(y_train)\n",
    "y_test = np.array(y_test)\n",
    "X = np.array(X)\n"
   ]
  },
  {
   "cell_type": "markdown",
   "metadata": {},
   "source": [
    "### Reshaping size so our model can fit the lstm layer\n"
   ]
  },
  {
   "cell_type": "code",
   "execution_count": 51,
   "metadata": {},
   "outputs": [],
   "source": [
    "X_train = np.reshape(X_train, (X_train.shape[0], 1, X_train.shape[1]))\n",
    "X_test = np.reshape(X_test, (X_test.shape[0], 1, X_test.shape[1]))\n"
   ]
  },
  {
   "cell_type": "code",
   "execution_count": 52,
   "metadata": {},
   "outputs": [
    {
     "data": {
      "text/plain": [
       "(3525, 1, 13)"
      ]
     },
     "execution_count": 52,
     "metadata": {},
     "output_type": "execute_result"
    }
   ],
   "source": [
    "X_train.shape\n"
   ]
  },
  {
   "cell_type": "markdown",
   "metadata": {},
   "source": [
    "### In sequential model2 we add lstm with dense layers\n"
   ]
  },
  {
   "cell_type": "code",
   "execution_count": 53,
   "metadata": {},
   "outputs": [
    {
     "name": "stderr",
     "output_type": "stream",
     "text": [
      "C:\\Users\\hp\\Anaconda3\\lib\\site-packages\\ipykernel_launcher.py:2: UserWarning: Update your `LSTM` call to the Keras 2 API: `LSTM(50, batch_input_shape=(None, 1, ..., return_sequences=True, activation=\"elu\", kernel_initializer=\"glorot_normal\", recurrent_initializer=\"glorot_normal\")`\n",
      "  \n",
      "C:\\Users\\hp\\Anaconda3\\lib\\site-packages\\ipykernel_launcher.py:3: UserWarning: Update your `LSTM` call to the Keras 2 API: `LSTM(20, batch_input_shape=(None, 1, ..., return_sequences=True, activation=\"elu\", kernel_initializer=\"glorot_normal\", recurrent_initializer=\"glorot_normal\")`\n",
      "  This is separate from the ipykernel package so we can avoid doing imports until\n",
      "C:\\Users\\hp\\Anaconda3\\lib\\site-packages\\ipykernel_launcher.py:4: UserWarning: Update your `LSTM` call to the Keras 2 API: `LSTM(10, batch_input_shape=(None, 1, ..., return_sequences=True, activation=\"elu\", kernel_initializer=\"glorot_normal\", recurrent_initializer=\"glorot_normal\")`\n",
      "  after removing the cwd from sys.path.\n"
     ]
    }
   ],
   "source": [
    "model2 = Sequential() \n",
    "model2.add(LSTM((50), batch_input_shape=(None,1,13),return_sequences=True,init='glorot_normal', inner_init='glorot_normal', activation='elu'))\n",
    "model2.add(LSTM((20), batch_input_shape=(None,1,13),return_sequences=True,init='glorot_normal', inner_init='glorot_normal', activation='elu'))   \n",
    "model2.add(LSTM((10), batch_input_shape=(None,1,13),return_sequences=True,init='glorot_normal', inner_init='glorot_normal', activation='elu'))   \n",
    "model2.add(Dense(30,activation='elu'))\n",
    "model2.add(Dense(10,activation='elu'))\n",
    "model2.add(LSTM((1), return_sequences=False))\n",
    "\n",
    "model2.compile(loss='mean_absolute_error', optimizer='adam',metrics=['accuracy'])\n"
   ]
  },
  {
   "cell_type": "code",
   "execution_count": 54,
   "metadata": {},
   "outputs": [
    {
     "name": "stdout",
     "output_type": "stream",
     "text": [
      "Model: \"sequential_2\"\n",
      "_________________________________________________________________\n",
      "Layer (type)                 Output Shape              Param #   \n",
      "=================================================================\n",
      "lstm_1 (LSTM)                (None, 1, 50)             12800     \n",
      "_________________________________________________________________\n",
      "lstm_2 (LSTM)                (None, 1, 20)             5680      \n",
      "_________________________________________________________________\n",
      "lstm_3 (LSTM)                (None, 1, 10)             1240      \n",
      "_________________________________________________________________\n",
      "dense_5 (Dense)              (None, 1, 30)             330       \n",
      "_________________________________________________________________\n",
      "dense_6 (Dense)              (None, 1, 10)             310       \n",
      "_________________________________________________________________\n",
      "lstm_4 (LSTM)                (None, 1)                 48        \n",
      "=================================================================\n",
      "Total params: 20,408\n",
      "Trainable params: 20,408\n",
      "Non-trainable params: 0\n",
      "_________________________________________________________________\n"
     ]
    }
   ],
   "source": [
    "model2.summary()\n"
   ]
  },
  {
   "cell_type": "code",
   "execution_count": 55,
   "metadata": {},
   "outputs": [
    {
     "name": "stderr",
     "output_type": "stream",
     "text": [
      "C:\\Users\\hp\\Anaconda3\\lib\\site-packages\\ipykernel_launcher.py:1: UserWarning: The `nb_epoch` argument in `fit` has been renamed `epochs`.\n",
      "  \"\"\"Entry point for launching an IPython kernel.\n"
     ]
    },
    {
     "name": "stdout",
     "output_type": "stream",
     "text": [
      "WARNING:tensorflow:From C:\\Users\\hp\\Anaconda3\\lib\\site-packages\\tensorflow\\python\\ops\\math_ops.py:3066: to_int32 (from tensorflow.python.ops.math_ops) is deprecated and will be removed in a future version.\n",
      "Instructions for updating:\n",
      "Use tf.cast instead.\n",
      "Train on 3525 samples, validate on 882 samples\n",
      "Epoch 1/10\n",
      "3525/3525 [==============================] - 4s 1ms/step - loss: 0.0987 - accuracy: 0.9016 - val_loss: 0.1225 - val_accuracy: 0.8776\n",
      "Epoch 2/10\n",
      "3525/3525 [==============================] - 1s 231us/step - loss: 0.0985 - accuracy: 0.9016 - val_loss: 0.1225 - val_accuracy: 0.8776\n",
      "Epoch 3/10\n",
      "3525/3525 [==============================] - 1s 212us/step - loss: 0.0985 - accuracy: 0.9016 - val_loss: 0.1225 - val_accuracy: 0.8776\n",
      "Epoch 4/10\n",
      "3525/3525 [==============================] - 1s 241us/step - loss: 0.0985 - accuracy: 0.9016 - val_loss: 0.1226 - val_accuracy: 0.8776\n",
      "Epoch 5/10\n",
      "3525/3525 [==============================] - 1s 245us/step - loss: 0.0985 - accuracy: 0.9016 - val_loss: 0.1225 - val_accuracy: 0.8776\n",
      "Epoch 6/10\n",
      "3525/3525 [==============================] - 1s 247us/step - loss: 0.0985 - accuracy: 0.9016 - val_loss: 0.1225 - val_accuracy: 0.8776\n",
      "Epoch 7/10\n",
      "3525/3525 [==============================] - 1s 253us/step - loss: 0.0985 - accuracy: 0.9016 - val_loss: 0.1225 - val_accuracy: 0.8776\n",
      "Epoch 8/10\n",
      "3525/3525 [==============================] - 1s 260us/step - loss: 0.0985 - accuracy: 0.9016 - val_loss: 0.1225 - val_accuracy: 0.8776\n",
      "Epoch 9/10\n",
      "3525/3525 [==============================] - 1s 216us/step - loss: 0.0985 - accuracy: 0.9016 - val_loss: 0.1225 - val_accuracy: 0.8776\n",
      "Epoch 10/10\n",
      "3525/3525 [==============================] - 1s 221us/step - loss: 0.0985 - accuracy: 0.9016 - val_loss: 0.1225 - val_accuracy: 0.8776\n",
      "Train on 3525 samples, validate on 882 samples\n",
      "Epoch 1/10\n",
      " 832/3525 [======>.......................] - ETA: 0s - loss: 0.1058 - accuracy: 0.8942"
     ]
    },
    {
     "name": "stderr",
     "output_type": "stream",
     "text": [
      "C:\\Users\\hp\\Anaconda3\\lib\\site-packages\\ipykernel_launcher.py:3: UserWarning: The `nb_epoch` argument in `fit` has been renamed `epochs`.\n",
      "  This is separate from the ipykernel package so we can avoid doing imports until\n"
     ]
    },
    {
     "name": "stdout",
     "output_type": "stream",
     "text": [
      "3525/3525 [==============================] - 1s 217us/step - loss: 0.0985 - accuracy: 0.9016 - val_loss: 0.1225 - val_accuracy: 0.8776\n",
      "Epoch 2/10\n",
      "3525/3525 [==============================] - 1s 214us/step - loss: 0.0985 - accuracy: 0.9016 - val_loss: 0.1225 - val_accuracy: 0.8776\n",
      "Epoch 3/10\n",
      "3525/3525 [==============================] - 1s 230us/step - loss: 0.0985 - accuracy: 0.9016 - val_loss: 0.1225 - val_accuracy: 0.8776\n",
      "Epoch 4/10\n",
      "3525/3525 [==============================] - 1s 217us/step - loss: 0.0985 - accuracy: 0.9016 - val_loss: 0.1225 - val_accuracy: 0.8776\n",
      "Epoch 5/10\n",
      "3525/3525 [==============================] - 1s 213us/step - loss: 0.0985 - accuracy: 0.9016 - val_loss: 0.1225 - val_accuracy: 0.8776\n",
      "Epoch 6/10\n",
      "3525/3525 [==============================] - 1s 221us/step - loss: 0.0985 - accuracy: 0.9016 - val_loss: 0.1225 - val_accuracy: 0.8776\n",
      "Epoch 7/10\n",
      "3525/3525 [==============================] - 1s 219us/step - loss: 0.0985 - accuracy: 0.9016 - val_loss: 0.1225 - val_accuracy: 0.8776\n",
      "Epoch 8/10\n",
      "3525/3525 [==============================] - 1s 233us/step - loss: 0.0985 - accuracy: 0.9016 - val_loss: 0.1225 - val_accuracy: 0.8776\n",
      "Epoch 9/10\n",
      "3525/3525 [==============================] - 1s 230us/step - loss: 0.0985 - accuracy: 0.9016 - val_loss: 0.1225 - val_accuracy: 0.8776\n",
      "Epoch 10/10\n",
      "3525/3525 [==============================] - 1s 222us/step - loss: 0.0985 - accuracy: 0.9016 - val_loss: 0.1225 - val_accuracy: 0.8776\n"
     ]
    }
   ],
   "source": [
    "model2.fit(X_train, y_train, nb_epoch=10,validation_data=(X_test, y_test))\n",
    "model2.save('train_LSTM10.h5');\n",
    "history = model2.fit(X_train, y_train, nb_epoch=10,validation_data=(X_test, y_test))\n",
    "model2.save('train_LSTM35.h5')\n"
   ]
  },
  {
   "cell_type": "markdown",
   "metadata": {},
   "source": [
    "* Accuracy improve with large no of epochs\n",
    "\n",
    "### Visualize the training loss and te validation accuracy to see if the model is overfitting\n"
   ]
  },
  {
   "cell_type": "code",
   "execution_count": 56,
   "metadata": {},
   "outputs": [
    {
     "data": {
      "image/png": "[encoded data removed]",
      "text/plain": [
       "<Figure size 432x288 with 1 Axes>"
      ]
     },
     "metadata": {
      "needs_background": "light"
     },
     "output_type": "display_data"
    }
   ],
   "source": [
    "pd.DataFrame(history.history).plot()\n",
    "plt.grid(True)\n",
    "plt.gca().set_ylim()\n",
    "plt.show()\n"
   ]
  },
  {
   "cell_type": "markdown",
   "metadata": {},
   "source": [
    "* Accuracy of testing data using lstm is low as compare to dense neural network before. \n",
    "    * Accuracy- model2 < model\n",
    "    * Loss - model2 > model \n"
   ]
  },
  {
   "cell_type": "markdown",
   "metadata": {},
   "source": [
    "Evaluate testing model"
   ]
  },
  {
   "cell_type": "code",
   "execution_count": 57,
   "metadata": {},
   "outputs": [
    {
     "name": "stdout",
     "output_type": "stream",
     "text": [
      "882/882 [==============================] - 0s 93us/step\n"
     ]
    }
   ],
   "source": [
    "testing_acc_lstm =model2.evaluate(X_test,y_test)\n"
   ]
  },
  {
   "cell_type": "code",
   "execution_count": 58,
   "metadata": {},
   "outputs": [
    {
     "name": "stdout",
     "output_type": "stream",
     "text": [
      "Loss and Accuracy of testing data = [0.12248751127951443, 0.8775510191917419]\n"
     ]
    }
   ],
   "source": [
    "print(\"Loss and Accuracy of testing data =\",testing_acc_lstm)\n"
   ]
  },
  {
   "cell_type": "markdown",
   "metadata": {},
   "source": [
    "### Final conclusion\n",
    "\n",
    " * Our model work fine on dense neural network as compare to simple rnn and lstm \n"
   ]
  }
 ],
 "metadata": {
  "kernelspec": {
   "display_name": "Python 3",
   "language": "python",
   "name": "python3"
  },
  "language_info": {
   "codemirror_mode": {
    "name": "ipython",
    "version": 3
   },
   "file_extension": ".py",
   "mimetype": "text/x-python",
   "name": "python",
   "nbconvert_exporter": "python",
   "pygments_lexer": "ipython3",
   "version": "3.7.3"
  }
 },
 "nbformat": 4,
 "nbformat_minor": 2
}
